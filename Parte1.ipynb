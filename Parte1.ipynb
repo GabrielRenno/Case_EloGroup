{
 "cells": [
  {
   "cell_type": "markdown",
   "metadata": {},
   "source": [
    "Inicio"
   ]
  },
  {
   "cell_type": "code",
   "execution_count": 542,
   "metadata": {},
   "outputs": [],
   "source": [
    "#Planejamento:\n",
    " #   -Sanity check transactional data;\n",
    " #   -Sanity check Test data;\n",
    " #   -Mergir as duas tabelas a partir da coluna CodItem;\n",
    " #   -Calcular a lucratividade  por procedimento realizado. Utilizando a coluna 'TestingCost';\n",
    " #   -Categorizar a coluna 'Date of Birth' por faixa etária;\n",
    " #   -Ranking de laboratórios por lucratividade;\n",
    " #   -Ranking de sexo por lucratividade;\n",
    " #   -Ranking de faixa etaria por lucratividade;\n",
    " #   -Ranking de item por lucratividade;\n",
    "\n",
    "\n",
    "#Python Version: 3.9.7"
   ]
  },
  {
   "cell_type": "code",
   "execution_count": 543,
   "metadata": {},
   "outputs": [],
   "source": [
    "#importando bibliotecas\n",
    "import pandas as pd\n",
    "import numpy as np\n",
    "from datetime import datetime, timedelta, date"
   ]
  },
  {
   "cell_type": "code",
   "execution_count": 544,
   "metadata": {},
   "outputs": [],
   "source": [
    "#importando dados \n",
    "df_raw_transactional_data = pd.read_csv('transactional_data.csv', sep = \";\", dtype={\"Gender\": \"category\"})"
   ]
  },
  {
   "cell_type": "code",
   "execution_count": 545,
   "metadata": {},
   "outputs": [],
   "source": [
    "#df_raw_transactional_data['Date of birth'] = pd.to_datetime(df_raw_transactional_data['Date of birth'])\n",
    "df_raw_transactional_data['Date of service'] = pd.to_datetime(df_raw_transactional_data['Date of service'])\n",
    "df_raw_transactional_data['Testing Cost'] = df_raw_transactional_data['Testing Cost'].astype(str)"
   ]
  },
  {
   "cell_type": "code",
   "execution_count": 546,
   "metadata": {},
   "outputs": [],
   "source": [
    "df_raw_transactional_data[\"Testing Cost\"] = df_raw_transactional_data[\"Testing Cost\"].replace(\",\", \".\", regex = True)"
   ]
  },
  {
   "cell_type": "code",
   "execution_count": 547,
   "metadata": {},
   "outputs": [],
   "source": [
    "df_raw_transactional_data['Testing Cost'] = pd.to_numeric(df_raw_transactional_data['Testing Cost'].astype(str))\n"
   ]
  },
  {
   "cell_type": "code",
   "execution_count": 548,
   "metadata": {},
   "outputs": [
    {
     "name": "stdout",
     "output_type": "stream",
     "text": [
      "<class 'pandas.core.frame.DataFrame'>\n",
      "RangeIndex: 2355241 entries, 0 to 2355240\n",
      "Data columns (total 8 columns):\n",
      " #   Column           Dtype         \n",
      "---  ------           -----         \n",
      " 0   Patient Id       object        \n",
      " 1   Gender           category      \n",
      " 2   Date of birth    object        \n",
      " 3   Date of service  datetime64[ns]\n",
      " 4   Service Id       object        \n",
      " 5   Lab Id           object        \n",
      " 6   CodItem          int64         \n",
      " 7   Testing Cost     float64       \n",
      "dtypes: category(1), datetime64[ns](1), float64(1), int64(1), object(4)\n",
      "memory usage: 128.0+ MB\n"
     ]
    }
   ],
   "source": [
    "df_raw_transactional_data.info()"
   ]
  },
  {
   "cell_type": "code",
   "execution_count": 549,
   "metadata": {},
   "outputs": [
    {
     "data": {
      "text/html": [
       "<div><div id=d218e9e1-c85f-40f2-b74a-8904dcfa639f style=\"display:none; background-color:#9D6CFF; color:white; width:200px; height:30px; padding-left:5px; border-radius:4px; flex-direction:row; justify-content:space-around; align-items:center;\" onmouseover=\"this.style.backgroundColor='#BA9BF8'\" onmouseout=\"this.style.backgroundColor='#9D6CFF'\" onclick=\"window.commands?.execute('create-mitosheet-from-dataframe-output');\">See Full Dataframe in Mito</div> <script> if (window.commands.hasCommand('create-mitosheet-from-dataframe-output')) document.getElementById('d218e9e1-c85f-40f2-b74a-8904dcfa639f').style.display = 'flex' </script> <table border=\"1\" class=\"dataframe\">\n",
       "  <thead>\n",
       "    <tr style=\"text-align: right;\">\n",
       "      <th></th>\n",
       "      <th>Patient Id</th>\n",
       "      <th>Gender</th>\n",
       "      <th>Date of birth</th>\n",
       "      <th>Date of service</th>\n",
       "      <th>Service Id</th>\n",
       "      <th>Lab Id</th>\n",
       "      <th>CodItem</th>\n",
       "      <th>Testing Cost</th>\n",
       "    </tr>\n",
       "  </thead>\n",
       "  <tbody>\n",
       "    <tr>\n",
       "      <th>0</th>\n",
       "      <td>10210830256-BIO003</td>\n",
       "      <td>F</td>\n",
       "      <td>01/08/1976 00:00:00</td>\n",
       "      <td>2019-01-07</td>\n",
       "      <td>571904533475-38</td>\n",
       "      <td>L133</td>\n",
       "      <td>70003237</td>\n",
       "      <td>9.0</td>\n",
       "    </tr>\n",
       "    <tr>\n",
       "      <th>1</th>\n",
       "      <td>10210830256-BIO003</td>\n",
       "      <td>F</td>\n",
       "      <td>01/08/1976 00:00:00</td>\n",
       "      <td>2019-01-07</td>\n",
       "      <td>571904533475-38</td>\n",
       "      <td>L133</td>\n",
       "      <td>70000638</td>\n",
       "      <td>13.0</td>\n",
       "    </tr>\n",
       "    <tr>\n",
       "      <th>2</th>\n",
       "      <td>10210830256-BIO003</td>\n",
       "      <td>F</td>\n",
       "      <td>01/08/1976 00:00:00</td>\n",
       "      <td>2019-01-07</td>\n",
       "      <td>571904533475-38</td>\n",
       "      <td>L133</td>\n",
       "      <td>70001597</td>\n",
       "      <td>49.0</td>\n",
       "    </tr>\n",
       "    <tr>\n",
       "      <th>3</th>\n",
       "      <td>10210830256-BIO003</td>\n",
       "      <td>F</td>\n",
       "      <td>01/08/1976 00:00:00</td>\n",
       "      <td>2019-01-07</td>\n",
       "      <td>571904533475-38</td>\n",
       "      <td>L133</td>\n",
       "      <td>70000103</td>\n",
       "      <td>11.0</td>\n",
       "    </tr>\n",
       "    <tr>\n",
       "      <th>4</th>\n",
       "      <td>10210830256-BIO003</td>\n",
       "      <td>F</td>\n",
       "      <td>01/08/1976 00:00:00</td>\n",
       "      <td>2019-01-07</td>\n",
       "      <td>571904533475-38</td>\n",
       "      <td>L133</td>\n",
       "      <td>70000224</td>\n",
       "      <td>10.0</td>\n",
       "    </tr>\n",
       "  </tbody>\n",
       "</table></div>"
      ],
      "text/plain": [
       "           Patient Id Gender        Date of birth Date of service  \\\n",
       "0  10210830256-BIO003      F  01/08/1976 00:00:00      2019-01-07   \n",
       "1  10210830256-BIO003      F  01/08/1976 00:00:00      2019-01-07   \n",
       "2  10210830256-BIO003      F  01/08/1976 00:00:00      2019-01-07   \n",
       "3  10210830256-BIO003      F  01/08/1976 00:00:00      2019-01-07   \n",
       "4  10210830256-BIO003      F  01/08/1976 00:00:00      2019-01-07   \n",
       "\n",
       "        Service Id Lab Id   CodItem  Testing Cost  \n",
       "0  571904533475-38   L133  70003237           9.0  \n",
       "1  571904533475-38   L133  70000638          13.0  \n",
       "2  571904533475-38   L133  70001597          49.0  \n",
       "3  571904533475-38   L133  70000103          11.0  \n",
       "4  571904533475-38   L133  70000224          10.0  "
      ]
     },
     "execution_count": 549,
     "metadata": {},
     "output_type": "execute_result"
    }
   ],
   "source": [
    "#Verificando o dataset\n",
    "df_raw_transactional_data.head()"
   ]
  },
  {
   "cell_type": "code",
   "execution_count": 550,
   "metadata": {},
   "outputs": [
    {
     "data": {
      "text/plain": [
       "Patient Id         0\n",
       "Gender             0\n",
       "Date of birth      1\n",
       "Date of service    0\n",
       "Service Id         0\n",
       "Lab Id             0\n",
       "CodItem            0\n",
       "Testing Cost       0\n",
       "dtype: int64"
      ]
     },
     "execution_count": 550,
     "metadata": {},
     "output_type": "execute_result"
    }
   ],
   "source": [
    "#Verificando a ocorrencia de valores missing\n",
    "df_raw_transactional_data.isnull().sum()"
   ]
  },
  {
   "cell_type": "code",
   "execution_count": 551,
   "metadata": {},
   "outputs": [
    {
     "data": {
      "text/html": [
       "<div><div id=004bcaaf-3d2b-46c8-851c-d6fc9c1a3486 style=\"display:none; background-color:#9D6CFF; color:white; width:200px; height:30px; padding-left:5px; border-radius:4px; flex-direction:row; justify-content:space-around; align-items:center;\" onmouseover=\"this.style.backgroundColor='#BA9BF8'\" onmouseout=\"this.style.backgroundColor='#9D6CFF'\" onclick=\"window.commands?.execute('create-mitosheet-from-dataframe-output');\">See Full Dataframe in Mito</div> <script> if (window.commands.hasCommand('create-mitosheet-from-dataframe-output')) document.getElementById('004bcaaf-3d2b-46c8-851c-d6fc9c1a3486').style.display = 'flex' </script> <table border=\"1\" class=\"dataframe\">\n",
       "  <thead>\n",
       "    <tr style=\"text-align: right;\">\n",
       "      <th></th>\n",
       "      <th>Patient Id</th>\n",
       "      <th>Gender</th>\n",
       "      <th>Date of birth</th>\n",
       "      <th>Date of service</th>\n",
       "      <th>Service Id</th>\n",
       "      <th>Lab Id</th>\n",
       "      <th>CodItem</th>\n",
       "      <th>Testing Cost</th>\n",
       "    </tr>\n",
       "  </thead>\n",
       "  <tbody>\n",
       "    <tr>\n",
       "      <th>1253947</th>\n",
       "      <td>7659985004-1</td>\n",
       "      <td>F</td>\n",
       "      <td>NaN</td>\n",
       "      <td>2020-02-22</td>\n",
       "      <td>7659985004-2-1</td>\n",
       "      <td>L152</td>\n",
       "      <td>70000107</td>\n",
       "      <td>48.0</td>\n",
       "    </tr>\n",
       "  </tbody>\n",
       "</table></div>"
      ],
      "text/plain": [
       "           Patient Id Gender Date of birth Date of service      Service Id  \\\n",
       "1253947  7659985004-1      F           NaN      2020-02-22  7659985004-2-1   \n",
       "\n",
       "        Lab Id   CodItem  Testing Cost  \n",
       "1253947   L152  70000107          48.0  "
      ]
     },
     "execution_count": 551,
     "metadata": {},
     "output_type": "execute_result"
    }
   ],
   "source": [
    "#Analisando a linha com valor missing. Decidi remover pois e apenas uma ocorrencia e a coluna date of birth e importante\n",
    "df_raw_transactional_data[df_raw_transactional_data[\"Date of birth\"].isnull()]"
   ]
  },
  {
   "cell_type": "code",
   "execution_count": 552,
   "metadata": {},
   "outputs": [
    {
     "data": {
      "text/plain": [
       "Patient Id         0\n",
       "Gender             0\n",
       "Date of birth      0\n",
       "Date of service    0\n",
       "Service Id         0\n",
       "Lab Id             0\n",
       "CodItem            0\n",
       "Testing Cost       0\n",
       "dtype: int64"
      ]
     },
     "execution_count": 552,
     "metadata": {},
     "output_type": "execute_result"
    }
   ],
   "source": [
    "#Removendo a linha\n",
    "df_raw_transactional_data = df_raw_transactional_data.dropna()\n",
    "df_raw_transactional_data.isnull().sum()"
   ]
  },
  {
   "cell_type": "markdown",
   "metadata": {},
   "source": [
    "Variavel gender"
   ]
  },
  {
   "cell_type": "code",
   "execution_count": 553,
   "metadata": {},
   "outputs": [
    {
     "data": {
      "text/plain": [
       "F    1500464\n",
       "M     854766\n",
       "I         10\n",
       "Name: Gender, dtype: int64"
      ]
     },
     "execution_count": 553,
     "metadata": {},
     "output_type": "execute_result"
    }
   ],
   "source": [
    "df_raw_transactional_data[\"Gender\"].value_counts()"
   ]
  },
  {
   "cell_type": "code",
   "execution_count": 554,
   "metadata": {},
   "outputs": [
    {
     "data": {
      "text/html": [
       "<div><div id=481d61e5-51e4-43ad-b776-3f74e98ebb12 style=\"display:none; background-color:#9D6CFF; color:white; width:200px; height:30px; padding-left:5px; border-radius:4px; flex-direction:row; justify-content:space-around; align-items:center;\" onmouseover=\"this.style.backgroundColor='#BA9BF8'\" onmouseout=\"this.style.backgroundColor='#9D6CFF'\" onclick=\"window.commands?.execute('create-mitosheet-from-dataframe-output');\">See Full Dataframe in Mito</div> <script> if (window.commands.hasCommand('create-mitosheet-from-dataframe-output')) document.getElementById('481d61e5-51e4-43ad-b776-3f74e98ebb12').style.display = 'flex' </script> <table border=\"1\" class=\"dataframe\">\n",
       "  <thead>\n",
       "    <tr style=\"text-align: right;\">\n",
       "      <th></th>\n",
       "      <th>Patient Id</th>\n",
       "      <th>Gender</th>\n",
       "      <th>Date of birth</th>\n",
       "      <th>Date of service</th>\n",
       "      <th>Service Id</th>\n",
       "      <th>Lab Id</th>\n",
       "      <th>CodItem</th>\n",
       "      <th>Testing Cost</th>\n",
       "    </tr>\n",
       "  </thead>\n",
       "  <tbody>\n",
       "    <tr>\n",
       "      <th>85068</th>\n",
       "      <td>-2</td>\n",
       "      <td>I</td>\n",
       "      <td>01/01/1900 00:00:00</td>\n",
       "      <td>2019-02-22</td>\n",
       "      <td>532800338922-132</td>\n",
       "      <td>L069</td>\n",
       "      <td>70003759</td>\n",
       "      <td>14.0</td>\n",
       "    </tr>\n",
       "    <tr>\n",
       "      <th>356628</th>\n",
       "      <td>-2</td>\n",
       "      <td>I</td>\n",
       "      <td>01/01/1900 00:00:00</td>\n",
       "      <td>2019-04-04</td>\n",
       "      <td>573200638885-52</td>\n",
       "      <td>L140</td>\n",
       "      <td>70000301</td>\n",
       "      <td>12.0</td>\n",
       "    </tr>\n",
       "    <tr>\n",
       "      <th>356629</th>\n",
       "      <td>-2</td>\n",
       "      <td>I</td>\n",
       "      <td>01/01/1900 00:00:00</td>\n",
       "      <td>2019-04-04</td>\n",
       "      <td>573200638885-52</td>\n",
       "      <td>L140</td>\n",
       "      <td>70001276</td>\n",
       "      <td>53.0</td>\n",
       "    </tr>\n",
       "    <tr>\n",
       "      <th>356630</th>\n",
       "      <td>-2</td>\n",
       "      <td>I</td>\n",
       "      <td>01/01/1900 00:00:00</td>\n",
       "      <td>2019-04-04</td>\n",
       "      <td>573200638885-52</td>\n",
       "      <td>L140</td>\n",
       "      <td>70004134</td>\n",
       "      <td>10.0</td>\n",
       "    </tr>\n",
       "    <tr>\n",
       "      <th>356631</th>\n",
       "      <td>-2</td>\n",
       "      <td>I</td>\n",
       "      <td>01/01/1900 00:00:00</td>\n",
       "      <td>2019-04-04</td>\n",
       "      <td>573200638885-52</td>\n",
       "      <td>L140</td>\n",
       "      <td>70003200</td>\n",
       "      <td>9.0</td>\n",
       "    </tr>\n",
       "    <tr>\n",
       "      <th>356632</th>\n",
       "      <td>-2</td>\n",
       "      <td>I</td>\n",
       "      <td>01/01/1900 00:00:00</td>\n",
       "      <td>2019-04-04</td>\n",
       "      <td>573200638885-52</td>\n",
       "      <td>L140</td>\n",
       "      <td>70002619</td>\n",
       "      <td>12.0</td>\n",
       "    </tr>\n",
       "    <tr>\n",
       "      <th>356633</th>\n",
       "      <td>-2</td>\n",
       "      <td>I</td>\n",
       "      <td>01/01/1900 00:00:00</td>\n",
       "      <td>2019-05-04</td>\n",
       "      <td>571904995402-38</td>\n",
       "      <td>L133</td>\n",
       "      <td>70002141</td>\n",
       "      <td>47.0</td>\n",
       "    </tr>\n",
       "    <tr>\n",
       "      <th>356634</th>\n",
       "      <td>-2</td>\n",
       "      <td>I</td>\n",
       "      <td>01/01/1900 00:00:00</td>\n",
       "      <td>2019-05-04</td>\n",
       "      <td>571904995402-38</td>\n",
       "      <td>L133</td>\n",
       "      <td>70003239</td>\n",
       "      <td>47.0</td>\n",
       "    </tr>\n",
       "    <tr>\n",
       "      <th>637178</th>\n",
       "      <td>-2</td>\n",
       "      <td>I</td>\n",
       "      <td>01/01/1900 00:00:00</td>\n",
       "      <td>2019-08-31</td>\n",
       "      <td>569403826990-11</td>\n",
       "      <td>L121</td>\n",
       "      <td>70006532</td>\n",
       "      <td>0.0</td>\n",
       "    </tr>\n",
       "    <tr>\n",
       "      <th>637179</th>\n",
       "      <td>-2</td>\n",
       "      <td>I</td>\n",
       "      <td>01/01/1900 00:00:00</td>\n",
       "      <td>2019-08-31</td>\n",
       "      <td>569403826990-11</td>\n",
       "      <td>L121</td>\n",
       "      <td>70006532</td>\n",
       "      <td>0.0</td>\n",
       "    </tr>\n",
       "  </tbody>\n",
       "</table></div>"
      ],
      "text/plain": [
       "       Patient Id Gender        Date of birth Date of service  \\\n",
       "85068          -2      I  01/01/1900 00:00:00      2019-02-22   \n",
       "356628         -2      I  01/01/1900 00:00:00      2019-04-04   \n",
       "356629         -2      I  01/01/1900 00:00:00      2019-04-04   \n",
       "356630         -2      I  01/01/1900 00:00:00      2019-04-04   \n",
       "356631         -2      I  01/01/1900 00:00:00      2019-04-04   \n",
       "356632         -2      I  01/01/1900 00:00:00      2019-04-04   \n",
       "356633         -2      I  01/01/1900 00:00:00      2019-05-04   \n",
       "356634         -2      I  01/01/1900 00:00:00      2019-05-04   \n",
       "637178         -2      I  01/01/1900 00:00:00      2019-08-31   \n",
       "637179         -2      I  01/01/1900 00:00:00      2019-08-31   \n",
       "\n",
       "              Service Id Lab Id   CodItem  Testing Cost  \n",
       "85068   532800338922-132   L069  70003759          14.0  \n",
       "356628   573200638885-52   L140  70000301          12.0  \n",
       "356629   573200638885-52   L140  70001276          53.0  \n",
       "356630   573200638885-52   L140  70004134          10.0  \n",
       "356631   573200638885-52   L140  70003200           9.0  \n",
       "356632   573200638885-52   L140  70002619          12.0  \n",
       "356633   571904995402-38   L133  70002141          47.0  \n",
       "356634   571904995402-38   L133  70003239          47.0  \n",
       "637178   569403826990-11   L121  70006532           0.0  \n",
       "637179   569403826990-11   L121  70006532           0.0  "
      ]
     },
     "execution_count": 554,
     "metadata": {},
     "output_type": "execute_result"
    }
   ],
   "source": [
    "df_raw_transactional_data[ df_raw_transactional_data[\"Gender\"] == \"I\"]"
   ]
  },
  {
   "cell_type": "code",
   "execution_count": 555,
   "metadata": {},
   "outputs": [],
   "source": [
    "#Remover dados que contem  gender = I\n",
    "df_raw_transactional_data = df_raw_transactional_data[ df_raw_transactional_data[\"Gender\"] != \"I\"] "
   ]
  },
  {
   "cell_type": "code",
   "execution_count": 643,
   "metadata": {},
   "outputs": [
    {
     "data": {
      "text/html": [
       "<div><div id=35085649-5a21-4043-82d2-0a7dfc9b64b0 style=\"display:none; background-color:#9D6CFF; color:white; width:200px; height:30px; padding-left:5px; border-radius:4px; flex-direction:row; justify-content:space-around; align-items:center;\" onmouseover=\"this.style.backgroundColor='#BA9BF8'\" onmouseout=\"this.style.backgroundColor='#9D6CFF'\" onclick=\"window.commands?.execute('create-mitosheet-from-dataframe-output');\">See Full Dataframe in Mito</div> <script> if (window.commands.hasCommand('create-mitosheet-from-dataframe-output')) document.getElementById('35085649-5a21-4043-82d2-0a7dfc9b64b0').style.display = 'flex' </script> <table border=\"1\" class=\"dataframe\">\n",
       "  <thead>\n",
       "    <tr style=\"text-align: right;\">\n",
       "      <th></th>\n",
       "      <th>Patient Id</th>\n",
       "      <th>Gender</th>\n",
       "      <th>Date of birth</th>\n",
       "      <th>Date of service</th>\n",
       "      <th>Service Id</th>\n",
       "      <th>Lab Id</th>\n",
       "      <th>CodItem</th>\n",
       "      <th>Testing Cost</th>\n",
       "      <th>Age</th>\n",
       "    </tr>\n",
       "  </thead>\n",
       "  <tbody>\n",
       "  </tbody>\n",
       "</table></div>"
      ],
      "text/plain": [
       "Empty DataFrame\n",
       "Columns: [Patient Id, Gender, Date of birth, Date of service, Service Id, Lab Id, CodItem, Testing Cost, Age]\n",
       "Index: []"
      ]
     },
     "execution_count": 643,
     "metadata": {},
     "output_type": "execute_result"
    }
   ],
   "source": [
    "df_raw_transactional_data[ df_raw_transactional_data[\"Gender\"] == \"I\"]"
   ]
  },
  {
   "cell_type": "code",
   "execution_count": 556,
   "metadata": {},
   "outputs": [
    {
     "data": {
      "text/plain": [
       "F    1500464\n",
       "M     854766\n",
       "I          0\n",
       "Name: Gender, dtype: int64"
      ]
     },
     "execution_count": 556,
     "metadata": {},
     "output_type": "execute_result"
    }
   ],
   "source": [
    "#Checando se a coluna foi corretamenta limpa\n",
    "df_raw_transactional_data[\"Gender\"].value_counts()"
   ]
  },
  {
   "cell_type": "code",
   "execution_count": 557,
   "metadata": {},
   "outputs": [
    {
     "data": {
      "text/plain": [
       "<AxesSubplot:>"
      ]
     },
     "execution_count": 557,
     "metadata": {},
     "output_type": "execute_result"
    },
    {
     "data": {
      "image/png": "[encoded data removed]",
      "text/plain": [
       "<Figure size 432x288 with 1 Axes>"
      ]
     },
     "metadata": {
      "needs_background": "light"
     },
     "output_type": "display_data"
    }
   ],
   "source": [
    "df_raw_transactional_data[\"Gender\"].value_counts().plot.bar()"
   ]
  },
  {
   "cell_type": "markdown",
   "metadata": {},
   "source": [
    "Variavel date of birth"
   ]
  },
  {
   "cell_type": "code",
   "execution_count": 558,
   "metadata": {},
   "outputs": [],
   "source": [
    "def age(born):\n",
    "    born = datetime.strptime(born, \"%d/%m/%Y %H:%M:%S\").date()\n",
    "    today = date.today()\n",
    "    return today.year - born.year - ((today.month, \n",
    "                                      today.day) < (born.month, \n",
    "                                                    born.day))"
   ]
  },
  {
   "cell_type": "code",
   "execution_count": 559,
   "metadata": {},
   "outputs": [
    {
     "name": "stdout",
     "output_type": "stream",
     "text": [
      "                 Patient Id Gender        Date of birth Date of service  \\\n",
      "0        10210830256-BIO003      F  01/08/1976 00:00:00      2019-01-07   \n",
      "1        10210830256-BIO003      F  01/08/1976 00:00:00      2019-01-07   \n",
      "2        10210830256-BIO003      F  01/08/1976 00:00:00      2019-01-07   \n",
      "3        10210830256-BIO003      F  01/08/1976 00:00:00      2019-01-07   \n",
      "4        10210830256-BIO003      F  01/08/1976 00:00:00      2019-01-07   \n",
      "...                     ...    ...                  ...             ...   \n",
      "2355236        7664157546-1      M  06/03/1971 00:00:00      2021-02-12   \n",
      "2355237        7664157546-1      M  06/03/1971 00:00:00      2021-02-12   \n",
      "2355238        7664157546-1      M  06/03/1971 00:00:00      2021-02-12   \n",
      "2355239        7664157546-1      M  06/03/1971 00:00:00      2021-02-12   \n",
      "2355240        7664157546-1      M  06/03/1971 00:00:00      2021-02-12   \n",
      "\n",
      "              Service Id Lab Id   CodItem  Testing Cost  Age  \n",
      "0        571904533475-38   L133  70003237           9.0   45  \n",
      "1        571904533475-38   L133  70000638          13.0   45  \n",
      "2        571904533475-38   L133  70001597          49.0   45  \n",
      "3        571904533475-38   L133  70000103          11.0   45  \n",
      "4        571904533475-38   L133  70000224          10.0   45  \n",
      "...                  ...    ...       ...           ...  ...  \n",
      "2355236   7664157546-1-1   L697  70004038          10.0   51  \n",
      "2355237   7664157546-1-1   L697  70004134          10.0   51  \n",
      "2355238   7664157546-1-1   L697  70003056           9.0   51  \n",
      "2355239   7664157546-1-1   L697  70004185          13.0   51  \n",
      "2355240   7664157546-1-1   L697  70000392           8.0   51  \n",
      "\n",
      "[2355230 rows x 9 columns]\n"
     ]
    }
   ],
   "source": [
    "\n",
    "df_raw_transactional_data['Age'] = df_raw_transactional_data['Date of birth'].apply(age)\n",
    "  \n",
    "print(df_raw_transactional_data)"
   ]
  },
  {
   "cell_type": "code",
   "execution_count": 560,
   "metadata": {},
   "outputs": [
    {
     "data": {
      "text/html": [
       "<div><div id=dcb0afee-e1ca-44e9-a290-174c311ba0d8 style=\"display:none; background-color:#9D6CFF; color:white; width:200px; height:30px; padding-left:5px; border-radius:4px; flex-direction:row; justify-content:space-around; align-items:center;\" onmouseover=\"this.style.backgroundColor='#BA9BF8'\" onmouseout=\"this.style.backgroundColor='#9D6CFF'\" onclick=\"window.commands?.execute('create-mitosheet-from-dataframe-output');\">See Full Dataframe in Mito</div> <script> if (window.commands.hasCommand('create-mitosheet-from-dataframe-output')) document.getElementById('dcb0afee-e1ca-44e9-a290-174c311ba0d8').style.display = 'flex' </script> <table border=\"1\" class=\"dataframe\">\n",
       "  <thead>\n",
       "    <tr style=\"text-align: right;\">\n",
       "      <th></th>\n",
       "      <th>Patient Id</th>\n",
       "      <th>Gender</th>\n",
       "      <th>Date of birth</th>\n",
       "      <th>Date of service</th>\n",
       "      <th>Service Id</th>\n",
       "      <th>Lab Id</th>\n",
       "      <th>CodItem</th>\n",
       "      <th>Testing Cost</th>\n",
       "      <th>Age</th>\n",
       "    </tr>\n",
       "  </thead>\n",
       "  <tbody>\n",
       "    <tr>\n",
       "      <th>0</th>\n",
       "      <td>10210830256-BIO003</td>\n",
       "      <td>F</td>\n",
       "      <td>01/08/1976 00:00:00</td>\n",
       "      <td>2019-01-07</td>\n",
       "      <td>571904533475-38</td>\n",
       "      <td>L133</td>\n",
       "      <td>70003237</td>\n",
       "      <td>9.0</td>\n",
       "      <td>45</td>\n",
       "    </tr>\n",
       "    <tr>\n",
       "      <th>1</th>\n",
       "      <td>10210830256-BIO003</td>\n",
       "      <td>F</td>\n",
       "      <td>01/08/1976 00:00:00</td>\n",
       "      <td>2019-01-07</td>\n",
       "      <td>571904533475-38</td>\n",
       "      <td>L133</td>\n",
       "      <td>70000638</td>\n",
       "      <td>13.0</td>\n",
       "      <td>45</td>\n",
       "    </tr>\n",
       "    <tr>\n",
       "      <th>2</th>\n",
       "      <td>10210830256-BIO003</td>\n",
       "      <td>F</td>\n",
       "      <td>01/08/1976 00:00:00</td>\n",
       "      <td>2019-01-07</td>\n",
       "      <td>571904533475-38</td>\n",
       "      <td>L133</td>\n",
       "      <td>70001597</td>\n",
       "      <td>49.0</td>\n",
       "      <td>45</td>\n",
       "    </tr>\n",
       "    <tr>\n",
       "      <th>3</th>\n",
       "      <td>10210830256-BIO003</td>\n",
       "      <td>F</td>\n",
       "      <td>01/08/1976 00:00:00</td>\n",
       "      <td>2019-01-07</td>\n",
       "      <td>571904533475-38</td>\n",
       "      <td>L133</td>\n",
       "      <td>70000103</td>\n",
       "      <td>11.0</td>\n",
       "      <td>45</td>\n",
       "    </tr>\n",
       "    <tr>\n",
       "      <th>4</th>\n",
       "      <td>10210830256-BIO003</td>\n",
       "      <td>F</td>\n",
       "      <td>01/08/1976 00:00:00</td>\n",
       "      <td>2019-01-07</td>\n",
       "      <td>571904533475-38</td>\n",
       "      <td>L133</td>\n",
       "      <td>70000224</td>\n",
       "      <td>10.0</td>\n",
       "      <td>45</td>\n",
       "    </tr>\n",
       "  </tbody>\n",
       "</table></div>"
      ],
      "text/plain": [
       "           Patient Id Gender        Date of birth Date of service  \\\n",
       "0  10210830256-BIO003      F  01/08/1976 00:00:00      2019-01-07   \n",
       "1  10210830256-BIO003      F  01/08/1976 00:00:00      2019-01-07   \n",
       "2  10210830256-BIO003      F  01/08/1976 00:00:00      2019-01-07   \n",
       "3  10210830256-BIO003      F  01/08/1976 00:00:00      2019-01-07   \n",
       "4  10210830256-BIO003      F  01/08/1976 00:00:00      2019-01-07   \n",
       "\n",
       "        Service Id Lab Id   CodItem  Testing Cost  Age  \n",
       "0  571904533475-38   L133  70003237           9.0   45  \n",
       "1  571904533475-38   L133  70000638          13.0   45  \n",
       "2  571904533475-38   L133  70001597          49.0   45  \n",
       "3  571904533475-38   L133  70000103          11.0   45  \n",
       "4  571904533475-38   L133  70000224          10.0   45  "
      ]
     },
     "execution_count": 560,
     "metadata": {},
     "output_type": "execute_result"
    }
   ],
   "source": [
    "df_raw_transactional_data.head()"
   ]
  },
  {
   "cell_type": "code",
   "execution_count": 561,
   "metadata": {},
   "outputs": [],
   "source": [
    "df1= df_raw_transactional_data"
   ]
  },
  {
   "cell_type": "code",
   "execution_count": 562,
   "metadata": {},
   "outputs": [
    {
     "name": "stdout",
     "output_type": "stream",
     "text": [
      "<class 'pandas.core.frame.DataFrame'>\n",
      "Int64Index: 2355230 entries, 0 to 2355240\n",
      "Data columns (total 9 columns):\n",
      " #   Column           Dtype         \n",
      "---  ------           -----         \n",
      " 0   Patient Id       object        \n",
      " 1   Gender           category      \n",
      " 2   Date of birth    object        \n",
      " 3   Date of service  datetime64[ns]\n",
      " 4   Service Id       object        \n",
      " 5   Lab Id           object        \n",
      " 6   CodItem          int64         \n",
      " 7   Testing Cost     float64       \n",
      " 8   Age              int64         \n",
      "dtypes: category(1), datetime64[ns](1), float64(1), int64(2), object(4)\n",
      "memory usage: 164.0+ MB\n"
     ]
    }
   ],
   "source": [
    "df1.info()"
   ]
  },
  {
   "cell_type": "code",
   "execution_count": 563,
   "metadata": {},
   "outputs": [
    {
     "data": {
      "text/plain": [
       "<AxesSubplot:ylabel='Frequency'>"
      ]
     },
     "execution_count": 563,
     "metadata": {},
     "output_type": "execute_result"
    },
    {
     "data": {
      "image/png": "[encoded data removed]",
      "text/plain": [
       "<Figure size 432x288 with 1 Axes>"
      ]
     },
     "metadata": {
      "needs_background": "light"
     },
     "output_type": "display_data"
    }
   ],
   "source": [
    "df1[\"Age\"].plot.hist()"
   ]
  },
  {
   "cell_type": "code",
   "execution_count": 564,
   "metadata": {},
   "outputs": [
    {
     "data": {
      "text/plain": [
       "Patient Id         73\n",
       "Gender             73\n",
       "Date of birth      73\n",
       "Date of service    73\n",
       "Service Id         73\n",
       "Lab Id             73\n",
       "CodItem            73\n",
       "Testing Cost       73\n",
       "Age                73\n",
       "dtype: int64"
      ]
     },
     "execution_count": 564,
     "metadata": {},
     "output_type": "execute_result"
    }
   ],
   "source": [
    "#A idade maxima usada sera de 105 anos\n",
    "df1[df1[\"Age\"] >105].count()"
   ]
  },
  {
   "cell_type": "code",
   "execution_count": 565,
   "metadata": {},
   "outputs": [],
   "source": [
    "#Removendo pacientes com mais de 105 anos\n",
    "df1= df1[df1[\"Age\"] <= 105]"
   ]
  },
  {
   "cell_type": "code",
   "execution_count": 566,
   "metadata": {},
   "outputs": [
    {
     "data": {
      "text/plain": [
       "<AxesSubplot:ylabel='Frequency'>"
      ]
     },
     "execution_count": 566,
     "metadata": {},
     "output_type": "execute_result"
    },
    {
     "data": {
      "image/png": "[encoded data removed]",
      "text/plain": [
       "<Figure size 432x288 with 1 Axes>"
      ]
     },
     "metadata": {
      "needs_background": "light"
     },
     "output_type": "display_data"
    }
   ],
   "source": [
    "df1[\"Age\"].plot.hist() "
   ]
  },
  {
   "cell_type": "code",
   "execution_count": 567,
   "metadata": {},
   "outputs": [
    {
     "data": {
      "text/plain": [
       "(2, 105, 44.0, 43.64788037485399)"
      ]
     },
     "execution_count": 567,
     "metadata": {},
     "output_type": "execute_result"
    }
   ],
   "source": [
    "df1[\"Age\"].min() , df1[\"Age\"].max() , df1[\"Age\"].median(), df1[\"Age\"].mean()"
   ]
  },
  {
   "cell_type": "code",
   "execution_count": 568,
   "metadata": {},
   "outputs": [
    {
     "data": {
      "text/plain": [
       "<AxesSubplot:>"
      ]
     },
     "execution_count": 568,
     "metadata": {},
     "output_type": "execute_result"
    },
    {
     "data": {
      "image/png": "[encoded data removed]",
      "text/plain": [
       "<Figure size 432x288 with 1 Axes>"
      ]
     },
     "metadata": {
      "needs_background": "light"
     },
     "output_type": "display_data"
    }
   ],
   "source": [
    "df1[\"Age\"].plot.box()"
   ]
  },
  {
   "cell_type": "code",
   "execution_count": 569,
   "metadata": {},
   "outputs": [
    {
     "data": {
      "text/html": [
       "<div><div id=eb330ffa-935f-4bd0-925e-e69dd61021f4 style=\"display:none; background-color:#9D6CFF; color:white; width:200px; height:30px; padding-left:5px; border-radius:4px; flex-direction:row; justify-content:space-around; align-items:center;\" onmouseover=\"this.style.backgroundColor='#BA9BF8'\" onmouseout=\"this.style.backgroundColor='#9D6CFF'\" onclick=\"window.commands?.execute('create-mitosheet-from-dataframe-output');\">See Full Dataframe in Mito</div> <script> if (window.commands.hasCommand('create-mitosheet-from-dataframe-output')) document.getElementById('eb330ffa-935f-4bd0-925e-e69dd61021f4').style.display = 'flex' </script> <table border=\"1\" class=\"dataframe\">\n",
       "  <thead>\n",
       "    <tr style=\"text-align: right;\">\n",
       "      <th></th>\n",
       "      <th>Patient Id</th>\n",
       "      <th>Gender</th>\n",
       "      <th>Date of birth</th>\n",
       "      <th>Date of service</th>\n",
       "      <th>Service Id</th>\n",
       "      <th>Lab Id</th>\n",
       "      <th>CodItem</th>\n",
       "      <th>Testing Cost</th>\n",
       "      <th>Age</th>\n",
       "    </tr>\n",
       "  </thead>\n",
       "  <tbody>\n",
       "    <tr>\n",
       "      <th>0</th>\n",
       "      <td>10210830256-BIO003</td>\n",
       "      <td>F</td>\n",
       "      <td>01/08/1976 00:00:00</td>\n",
       "      <td>2019-01-07</td>\n",
       "      <td>571904533475-38</td>\n",
       "      <td>L133</td>\n",
       "      <td>70003237</td>\n",
       "      <td>9.0</td>\n",
       "      <td>45</td>\n",
       "    </tr>\n",
       "    <tr>\n",
       "      <th>1</th>\n",
       "      <td>10210830256-BIO003</td>\n",
       "      <td>F</td>\n",
       "      <td>01/08/1976 00:00:00</td>\n",
       "      <td>2019-01-07</td>\n",
       "      <td>571904533475-38</td>\n",
       "      <td>L133</td>\n",
       "      <td>70000638</td>\n",
       "      <td>13.0</td>\n",
       "      <td>45</td>\n",
       "    </tr>\n",
       "    <tr>\n",
       "      <th>2</th>\n",
       "      <td>10210830256-BIO003</td>\n",
       "      <td>F</td>\n",
       "      <td>01/08/1976 00:00:00</td>\n",
       "      <td>2019-01-07</td>\n",
       "      <td>571904533475-38</td>\n",
       "      <td>L133</td>\n",
       "      <td>70001597</td>\n",
       "      <td>49.0</td>\n",
       "      <td>45</td>\n",
       "    </tr>\n",
       "    <tr>\n",
       "      <th>3</th>\n",
       "      <td>10210830256-BIO003</td>\n",
       "      <td>F</td>\n",
       "      <td>01/08/1976 00:00:00</td>\n",
       "      <td>2019-01-07</td>\n",
       "      <td>571904533475-38</td>\n",
       "      <td>L133</td>\n",
       "      <td>70000103</td>\n",
       "      <td>11.0</td>\n",
       "      <td>45</td>\n",
       "    </tr>\n",
       "    <tr>\n",
       "      <th>4</th>\n",
       "      <td>10210830256-BIO003</td>\n",
       "      <td>F</td>\n",
       "      <td>01/08/1976 00:00:00</td>\n",
       "      <td>2019-01-07</td>\n",
       "      <td>571904533475-38</td>\n",
       "      <td>L133</td>\n",
       "      <td>70000224</td>\n",
       "      <td>10.0</td>\n",
       "      <td>45</td>\n",
       "    </tr>\n",
       "  </tbody>\n",
       "</table></div>"
      ],
      "text/plain": [
       "           Patient Id Gender        Date of birth Date of service  \\\n",
       "0  10210830256-BIO003      F  01/08/1976 00:00:00      2019-01-07   \n",
       "1  10210830256-BIO003      F  01/08/1976 00:00:00      2019-01-07   \n",
       "2  10210830256-BIO003      F  01/08/1976 00:00:00      2019-01-07   \n",
       "3  10210830256-BIO003      F  01/08/1976 00:00:00      2019-01-07   \n",
       "4  10210830256-BIO003      F  01/08/1976 00:00:00      2019-01-07   \n",
       "\n",
       "        Service Id Lab Id   CodItem  Testing Cost  Age  \n",
       "0  571904533475-38   L133  70003237           9.0   45  \n",
       "1  571904533475-38   L133  70000638          13.0   45  \n",
       "2  571904533475-38   L133  70001597          49.0   45  \n",
       "3  571904533475-38   L133  70000103          11.0   45  \n",
       "4  571904533475-38   L133  70000224          10.0   45  "
      ]
     },
     "execution_count": 569,
     "metadata": {},
     "output_type": "execute_result"
    }
   ],
   "source": [
    "df1.head()"
   ]
  },
  {
   "cell_type": "markdown",
   "metadata": {},
   "source": [
    "Variavel Lab Id"
   ]
  },
  {
   "cell_type": "code",
   "execution_count": 570,
   "metadata": {},
   "outputs": [
    {
     "data": {
      "text/plain": [
       "L133    122838\n",
       "L152     95876\n",
       "L139     94217\n",
       "L121     89048\n",
       "L166     76749\n",
       "         ...  \n",
       "L660       645\n",
       "L127       236\n",
       "L967       101\n",
       "L149        68\n",
       "L665        24\n",
       "Name: Lab Id, Length: 118, dtype: int64"
      ]
     },
     "execution_count": 570,
     "metadata": {},
     "output_type": "execute_result"
    }
   ],
   "source": [
    "df1[\"Lab Id\"].value_counts()"
   ]
  },
  {
   "cell_type": "code",
   "execution_count": 571,
   "metadata": {},
   "outputs": [],
   "source": [
    "df1 = df1[df1[\"Lab Id\"] != \"-2\"]"
   ]
  },
  {
   "cell_type": "markdown",
   "metadata": {},
   "source": [
    "Variavel CodItem"
   ]
  },
  {
   "cell_type": "code",
   "execution_count": 572,
   "metadata": {},
   "outputs": [
    {
     "data": {
      "text/plain": [
       "70000638    164280\n",
       "70004134    116193\n",
       "70006146     79751\n",
       "70004185     77840\n",
       "70003200     70565\n",
       "             ...  \n",
       "70008512         1\n",
       "70008514         1\n",
       "70006558         1\n",
       "70006492         1\n",
       "70001506         1\n",
       "Name: CodItem, Length: 2063, dtype: int64"
      ]
     },
     "execution_count": 572,
     "metadata": {},
     "output_type": "execute_result"
    }
   ],
   "source": [
    "df1[\"CodItem\"].value_counts()"
   ]
  },
  {
   "cell_type": "markdown",
   "metadata": {},
   "source": [
    "Variavel Testing Cost"
   ]
  },
  {
   "cell_type": "code",
   "execution_count": 573,
   "metadata": {},
   "outputs": [
    {
     "data": {
      "text/plain": [
       "<AxesSubplot:ylabel='Frequency'>"
      ]
     },
     "execution_count": 573,
     "metadata": {},
     "output_type": "execute_result"
    },
    {
     "data": {
      "image/png": "[encoded data removed]",
      "text/plain": [
       "<Figure size 432x288 with 1 Axes>"
      ]
     },
     "metadata": {
      "needs_background": "light"
     },
     "output_type": "display_data"
    }
   ],
   "source": [
    "df1[\"Testing Cost\"].plot.hist() "
   ]
  },
  {
   "cell_type": "code",
   "execution_count": 574,
   "metadata": {},
   "outputs": [
    {
     "data": {
      "text/plain": [
       "<AxesSubplot:>"
      ]
     },
     "execution_count": 574,
     "metadata": {},
     "output_type": "execute_result"
    },
    {
     "data": {
      "image/png": "[encoded data removed]",
      "text/plain": [
       "<Figure size 432x288 with 1 Axes>"
      ]
     },
     "metadata": {
      "needs_background": "light"
     },
     "output_type": "display_data"
    }
   ],
   "source": [
    "df1[\"Testing Cost\"].plot.box() "
   ]
  },
  {
   "cell_type": "code",
   "execution_count": 575,
   "metadata": {},
   "outputs": [
    {
     "data": {
      "text/plain": [
       "(9500.0, 0.0, 24.0, 51.14477476229597)"
      ]
     },
     "execution_count": 575,
     "metadata": {},
     "output_type": "execute_result"
    }
   ],
   "source": [
    "df1[\"Testing Cost\"].max() , df1[\"Testing Cost\"].min() ,df1[\"Testing Cost\"].median() , df1[\"Testing Cost\"].mean() "
   ]
  },
  {
   "cell_type": "markdown",
   "metadata": {},
   "source": [
    "Decisao importante: aqui percebemos que existem varios registros nos quais o gasto do cliente com o exame foi de zero reais. Neste momento o cientista de dados deve entrar em contato com a equipe que domina a area de negocios para entender por que isso ocorreu\n",
    "e realizar o devido tratamento dos dados.\n",
    "Opcoes:\n",
    "    - Estes clientes estavam usando convenio de saude\n",
    "    - Estes clientes receberam o exame de graca por algum motivo\n",
    "    - Houve um erro operacional e o valor pago pleos clientes nao foi computado\n",
    "\n",
    "Neste caso irei considera a terceira opcao (erro operacional) e irei substituir os valores 0 pela mediana dos valores pagos pelos clientes historicamente."
   ]
  },
  {
   "cell_type": "code",
   "execution_count": 576,
   "metadata": {},
   "outputs": [
    {
     "data": {
      "text/plain": [
       "Patient Id         41144\n",
       "Gender             41144\n",
       "Date of birth      41144\n",
       "Date of service    41144\n",
       "Service Id         41144\n",
       "Lab Id             41144\n",
       "CodItem            41144\n",
       "Testing Cost       41144\n",
       "Age                41144\n",
       "dtype: int64"
      ]
     },
     "execution_count": 576,
     "metadata": {},
     "output_type": "execute_result"
    }
   ],
   "source": [
    "\n",
    "df1[df1[\"Testing Cost\"] == 0].count()"
   ]
  },
  {
   "cell_type": "code",
   "execution_count": 577,
   "metadata": {},
   "outputs": [],
   "source": [
    "df1[\"Testing Cost\"] =  df1[\"Testing Cost\"].replace(0.0, 24.0)"
   ]
  },
  {
   "cell_type": "code",
   "execution_count": 578,
   "metadata": {},
   "outputs": [
    {
     "data": {
      "text/html": [
       "<div><div id=8046c3f6-5d60-41e5-b35f-901c73740afa style=\"display:none; background-color:#9D6CFF; color:white; width:200px; height:30px; padding-left:5px; border-radius:4px; flex-direction:row; justify-content:space-around; align-items:center;\" onmouseover=\"this.style.backgroundColor='#BA9BF8'\" onmouseout=\"this.style.backgroundColor='#9D6CFF'\" onclick=\"window.commands?.execute('create-mitosheet-from-dataframe-output');\">See Full Dataframe in Mito</div> <script> if (window.commands.hasCommand('create-mitosheet-from-dataframe-output')) document.getElementById('8046c3f6-5d60-41e5-b35f-901c73740afa').style.display = 'flex' </script> <table border=\"1\" class=\"dataframe\">\n",
       "  <thead>\n",
       "    <tr style=\"text-align: right;\">\n",
       "      <th></th>\n",
       "      <th>Patient Id</th>\n",
       "      <th>Gender</th>\n",
       "      <th>Date of birth</th>\n",
       "      <th>Date of service</th>\n",
       "      <th>Service Id</th>\n",
       "      <th>Lab Id</th>\n",
       "      <th>CodItem</th>\n",
       "      <th>Testing Cost</th>\n",
       "      <th>Age</th>\n",
       "    </tr>\n",
       "  </thead>\n",
       "  <tbody>\n",
       "    <tr>\n",
       "      <th>0</th>\n",
       "      <td>10210830256-BIO003</td>\n",
       "      <td>F</td>\n",
       "      <td>01/08/1976 00:00:00</td>\n",
       "      <td>2019-01-07</td>\n",
       "      <td>571904533475-38</td>\n",
       "      <td>L133</td>\n",
       "      <td>70003237</td>\n",
       "      <td>9.0</td>\n",
       "      <td>45</td>\n",
       "    </tr>\n",
       "    <tr>\n",
       "      <th>1</th>\n",
       "      <td>10210830256-BIO003</td>\n",
       "      <td>F</td>\n",
       "      <td>01/08/1976 00:00:00</td>\n",
       "      <td>2019-01-07</td>\n",
       "      <td>571904533475-38</td>\n",
       "      <td>L133</td>\n",
       "      <td>70000638</td>\n",
       "      <td>13.0</td>\n",
       "      <td>45</td>\n",
       "    </tr>\n",
       "    <tr>\n",
       "      <th>2</th>\n",
       "      <td>10210830256-BIO003</td>\n",
       "      <td>F</td>\n",
       "      <td>01/08/1976 00:00:00</td>\n",
       "      <td>2019-01-07</td>\n",
       "      <td>571904533475-38</td>\n",
       "      <td>L133</td>\n",
       "      <td>70001597</td>\n",
       "      <td>49.0</td>\n",
       "      <td>45</td>\n",
       "    </tr>\n",
       "    <tr>\n",
       "      <th>3</th>\n",
       "      <td>10210830256-BIO003</td>\n",
       "      <td>F</td>\n",
       "      <td>01/08/1976 00:00:00</td>\n",
       "      <td>2019-01-07</td>\n",
       "      <td>571904533475-38</td>\n",
       "      <td>L133</td>\n",
       "      <td>70000103</td>\n",
       "      <td>11.0</td>\n",
       "      <td>45</td>\n",
       "    </tr>\n",
       "    <tr>\n",
       "      <th>4</th>\n",
       "      <td>10210830256-BIO003</td>\n",
       "      <td>F</td>\n",
       "      <td>01/08/1976 00:00:00</td>\n",
       "      <td>2019-01-07</td>\n",
       "      <td>571904533475-38</td>\n",
       "      <td>L133</td>\n",
       "      <td>70000224</td>\n",
       "      <td>10.0</td>\n",
       "      <td>45</td>\n",
       "    </tr>\n",
       "  </tbody>\n",
       "</table></div>"
      ],
      "text/plain": [
       "           Patient Id Gender        Date of birth Date of service  \\\n",
       "0  10210830256-BIO003      F  01/08/1976 00:00:00      2019-01-07   \n",
       "1  10210830256-BIO003      F  01/08/1976 00:00:00      2019-01-07   \n",
       "2  10210830256-BIO003      F  01/08/1976 00:00:00      2019-01-07   \n",
       "3  10210830256-BIO003      F  01/08/1976 00:00:00      2019-01-07   \n",
       "4  10210830256-BIO003      F  01/08/1976 00:00:00      2019-01-07   \n",
       "\n",
       "        Service Id Lab Id   CodItem  Testing Cost  Age  \n",
       "0  571904533475-38   L133  70003237           9.0   45  \n",
       "1  571904533475-38   L133  70000638          13.0   45  \n",
       "2  571904533475-38   L133  70001597          49.0   45  \n",
       "3  571904533475-38   L133  70000103          11.0   45  \n",
       "4  571904533475-38   L133  70000224          10.0   45  "
      ]
     },
     "execution_count": 578,
     "metadata": {},
     "output_type": "execute_result"
    }
   ],
   "source": [
    "df1.head()"
   ]
  },
  {
   "cell_type": "code",
   "execution_count": 579,
   "metadata": {},
   "outputs": [
    {
     "data": {
      "text/html": [
       "<div><div id=a12f7b5e-fa5a-40df-8a50-6a6461a08e11 style=\"display:none; background-color:#9D6CFF; color:white; width:200px; height:30px; padding-left:5px; border-radius:4px; flex-direction:row; justify-content:space-around; align-items:center;\" onmouseover=\"this.style.backgroundColor='#BA9BF8'\" onmouseout=\"this.style.backgroundColor='#9D6CFF'\" onclick=\"window.commands?.execute('create-mitosheet-from-dataframe-output');\">See Full Dataframe in Mito</div> <script> if (window.commands.hasCommand('create-mitosheet-from-dataframe-output')) document.getElementById('a12f7b5e-fa5a-40df-8a50-6a6461a08e11').style.display = 'flex' </script> <table border=\"1\" class=\"dataframe\">\n",
       "  <thead>\n",
       "    <tr style=\"text-align: right;\">\n",
       "      <th></th>\n",
       "      <th>Patient Id</th>\n",
       "      <th>Gender</th>\n",
       "      <th>Date of birth</th>\n",
       "      <th>Date of service</th>\n",
       "      <th>Service Id</th>\n",
       "      <th>Lab Id</th>\n",
       "      <th>CodItem</th>\n",
       "      <th>Testing Cost</th>\n",
       "      <th>Age</th>\n",
       "    </tr>\n",
       "  </thead>\n",
       "  <tbody>\n",
       "  </tbody>\n",
       "</table></div>"
      ],
      "text/plain": [
       "Empty DataFrame\n",
       "Columns: [Patient Id, Gender, Date of birth, Date of service, Service Id, Lab Id, CodItem, Testing Cost, Age]\n",
       "Index: []"
      ]
     },
     "execution_count": 579,
     "metadata": {},
     "output_type": "execute_result"
    }
   ],
   "source": [
    "df1[df1[\"Testing Cost\"] == 0 ]"
   ]
  },
  {
   "cell_type": "code",
   "execution_count": 580,
   "metadata": {},
   "outputs": [],
   "source": [
    "df_cost = df1[df1[\"Testing Cost\"] < 10]"
   ]
  },
  {
   "cell_type": "code",
   "execution_count": 581,
   "metadata": {},
   "outputs": [
    {
     "data": {
      "text/plain": [
       "<AxesSubplot:>"
      ]
     },
     "execution_count": 581,
     "metadata": {},
     "output_type": "execute_result"
    },
    {
     "data": {
      "image/png": "[encoded data removed]",
      "text/plain": [
       "<Figure size 432x288 with 1 Axes>"
      ]
     },
     "metadata": {
      "needs_background": "light"
     },
     "output_type": "display_data"
    }
   ],
   "source": [
    "df_cost[\"Testing Cost\"].plot.box()"
   ]
  },
  {
   "cell_type": "code",
   "execution_count": 582,
   "metadata": {},
   "outputs": [
    {
     "data": {
      "text/html": [
       "<div><div id=0fbdca56-7daf-4d5f-aa17-dd3555bf2bff style=\"display:none; background-color:#9D6CFF; color:white; width:200px; height:30px; padding-left:5px; border-radius:4px; flex-direction:row; justify-content:space-around; align-items:center;\" onmouseover=\"this.style.backgroundColor='#BA9BF8'\" onmouseout=\"this.style.backgroundColor='#9D6CFF'\" onclick=\"window.commands?.execute('create-mitosheet-from-dataframe-output');\">See Full Dataframe in Mito</div> <script> if (window.commands.hasCommand('create-mitosheet-from-dataframe-output')) document.getElementById('0fbdca56-7daf-4d5f-aa17-dd3555bf2bff').style.display = 'flex' </script> <table border=\"1\" class=\"dataframe\">\n",
       "  <thead>\n",
       "    <tr style=\"text-align: right;\">\n",
       "      <th></th>\n",
       "      <th>Patient Id</th>\n",
       "      <th>Gender</th>\n",
       "      <th>Date of birth</th>\n",
       "      <th>Date of service</th>\n",
       "      <th>Service Id</th>\n",
       "      <th>Lab Id</th>\n",
       "      <th>CodItem</th>\n",
       "      <th>Testing Cost</th>\n",
       "      <th>Age</th>\n",
       "    </tr>\n",
       "  </thead>\n",
       "  <tbody>\n",
       "  </tbody>\n",
       "</table></div>"
      ],
      "text/plain": [
       "Empty DataFrame\n",
       "Columns: [Patient Id, Gender, Date of birth, Date of service, Service Id, Lab Id, CodItem, Testing Cost, Age]\n",
       "Index: []"
      ]
     },
     "execution_count": 582,
     "metadata": {},
     "output_type": "execute_result"
    }
   ],
   "source": [
    "df_cost[df_cost[\"Testing Cost\"] >7000]"
   ]
  },
  {
   "cell_type": "code",
   "execution_count": 583,
   "metadata": {},
   "outputs": [
    {
     "data": {
      "text/plain": [
       "<AxesSubplot:ylabel='Frequency'>"
      ]
     },
     "execution_count": 583,
     "metadata": {},
     "output_type": "execute_result"
    },
    {
     "data": {
      "image/png": "[encoded data removed]",
      "text/plain": [
       "<Figure size 432x288 with 1 Axes>"
      ]
     },
     "metadata": {
      "needs_background": "light"
     },
     "output_type": "display_data"
    }
   ],
   "source": [
    "df_cost[\"Testing Cost\"].plot.hist()"
   ]
  },
  {
   "cell_type": "code",
   "execution_count": 584,
   "metadata": {},
   "outputs": [
    {
     "data": {
      "text/html": [
       "<div><div id=0f371bfa-b6ab-4c7f-826e-227f97f262fa style=\"display:none; background-color:#9D6CFF; color:white; width:200px; height:30px; padding-left:5px; border-radius:4px; flex-direction:row; justify-content:space-around; align-items:center;\" onmouseover=\"this.style.backgroundColor='#BA9BF8'\" onmouseout=\"this.style.backgroundColor='#9D6CFF'\" onclick=\"window.commands?.execute('create-mitosheet-from-dataframe-output');\">See Full Dataframe in Mito</div> <script> if (window.commands.hasCommand('create-mitosheet-from-dataframe-output')) document.getElementById('0f371bfa-b6ab-4c7f-826e-227f97f262fa').style.display = 'flex' </script> <table border=\"1\" class=\"dataframe\">\n",
       "  <thead>\n",
       "    <tr style=\"text-align: right;\">\n",
       "      <th></th>\n",
       "      <th>Patient Id</th>\n",
       "      <th>Gender</th>\n",
       "      <th>Date of birth</th>\n",
       "      <th>Date of service</th>\n",
       "      <th>Service Id</th>\n",
       "      <th>Lab Id</th>\n",
       "      <th>CodItem</th>\n",
       "      <th>Testing Cost</th>\n",
       "      <th>Age</th>\n",
       "    </tr>\n",
       "  </thead>\n",
       "  <tbody>\n",
       "    <tr>\n",
       "      <th>0</th>\n",
       "      <td>10210830256-BIO003</td>\n",
       "      <td>F</td>\n",
       "      <td>01/08/1976 00:00:00</td>\n",
       "      <td>2019-01-07</td>\n",
       "      <td>571904533475-38</td>\n",
       "      <td>L133</td>\n",
       "      <td>70003237</td>\n",
       "      <td>9.0</td>\n",
       "      <td>45</td>\n",
       "    </tr>\n",
       "    <tr>\n",
       "      <th>1</th>\n",
       "      <td>10210830256-BIO003</td>\n",
       "      <td>F</td>\n",
       "      <td>01/08/1976 00:00:00</td>\n",
       "      <td>2019-01-07</td>\n",
       "      <td>571904533475-38</td>\n",
       "      <td>L133</td>\n",
       "      <td>70000638</td>\n",
       "      <td>13.0</td>\n",
       "      <td>45</td>\n",
       "    </tr>\n",
       "    <tr>\n",
       "      <th>2</th>\n",
       "      <td>10210830256-BIO003</td>\n",
       "      <td>F</td>\n",
       "      <td>01/08/1976 00:00:00</td>\n",
       "      <td>2019-01-07</td>\n",
       "      <td>571904533475-38</td>\n",
       "      <td>L133</td>\n",
       "      <td>70001597</td>\n",
       "      <td>49.0</td>\n",
       "      <td>45</td>\n",
       "    </tr>\n",
       "    <tr>\n",
       "      <th>3</th>\n",
       "      <td>10210830256-BIO003</td>\n",
       "      <td>F</td>\n",
       "      <td>01/08/1976 00:00:00</td>\n",
       "      <td>2019-01-07</td>\n",
       "      <td>571904533475-38</td>\n",
       "      <td>L133</td>\n",
       "      <td>70000103</td>\n",
       "      <td>11.0</td>\n",
       "      <td>45</td>\n",
       "    </tr>\n",
       "    <tr>\n",
       "      <th>4</th>\n",
       "      <td>10210830256-BIO003</td>\n",
       "      <td>F</td>\n",
       "      <td>01/08/1976 00:00:00</td>\n",
       "      <td>2019-01-07</td>\n",
       "      <td>571904533475-38</td>\n",
       "      <td>L133</td>\n",
       "      <td>70000224</td>\n",
       "      <td>10.0</td>\n",
       "      <td>45</td>\n",
       "    </tr>\n",
       "  </tbody>\n",
       "</table></div>"
      ],
      "text/plain": [
       "           Patient Id Gender        Date of birth Date of service  \\\n",
       "0  10210830256-BIO003      F  01/08/1976 00:00:00      2019-01-07   \n",
       "1  10210830256-BIO003      F  01/08/1976 00:00:00      2019-01-07   \n",
       "2  10210830256-BIO003      F  01/08/1976 00:00:00      2019-01-07   \n",
       "3  10210830256-BIO003      F  01/08/1976 00:00:00      2019-01-07   \n",
       "4  10210830256-BIO003      F  01/08/1976 00:00:00      2019-01-07   \n",
       "\n",
       "        Service Id Lab Id   CodItem  Testing Cost  Age  \n",
       "0  571904533475-38   L133  70003237           9.0   45  \n",
       "1  571904533475-38   L133  70000638          13.0   45  \n",
       "2  571904533475-38   L133  70001597          49.0   45  \n",
       "3  571904533475-38   L133  70000103          11.0   45  \n",
       "4  571904533475-38   L133  70000224          10.0   45  "
      ]
     },
     "execution_count": 584,
     "metadata": {},
     "output_type": "execute_result"
    }
   ],
   "source": [
    "df_final_sanity_check_transactional_data = df1\n",
    "df_final_sanity_check_transactional_data.head()"
   ]
  },
  {
   "cell_type": "code",
   "execution_count": 585,
   "metadata": {},
   "outputs": [
    {
     "data": {
      "text/plain": [
       "3.86"
      ]
     },
     "execution_count": 585,
     "metadata": {},
     "output_type": "execute_result"
    }
   ],
   "source": [
    "df_final_sanity_check_transactional_data[\"Testing Cost\"].min()"
   ]
  },
  {
   "cell_type": "code",
   "execution_count": 586,
   "metadata": {},
   "outputs": [
    {
     "data": {
      "text/plain": [
       "<AxesSubplot:>"
      ]
     },
     "execution_count": 586,
     "metadata": {},
     "output_type": "execute_result"
    },
    {
     "data": {
      "image/png": "[encoded data removed]",
      "text/plain": [
       "<Figure size 432x288 with 1 Axes>"
      ]
     },
     "metadata": {
      "needs_background": "light"
     },
     "output_type": "display_data"
    }
   ],
   "source": [
    "df_final_sanity_check_transactional_data[\"Testing Cost\"].plot.box()\n"
   ]
  },
  {
   "cell_type": "markdown",
   "metadata": {},
   "source": [
    "Final sanity check transactional data"
   ]
  },
  {
   "cell_type": "markdown",
   "metadata": {},
   "source": [
    "Inicio sanity check test data"
   ]
  },
  {
   "cell_type": "code",
   "execution_count": 587,
   "metadata": {},
   "outputs": [],
   "source": [
    "df_raw_test_data = pd.read_csv('test_data.csv', sep = \",\", \n",
    "dtype={\"Desc Item\": \"category\",\n",
    "\"Category\": \"category\",\n",
    "\"Family\": \"category\",\n",
    "\"Speciality\": \"category\", })"
   ]
  },
  {
   "cell_type": "code",
   "execution_count": 588,
   "metadata": {},
   "outputs": [
    {
     "data": {
      "text/html": [
       "<div><div id=0d103fef-758f-4e60-a58c-2cb422b01c5c style=\"display:none; background-color:#9D6CFF; color:white; width:200px; height:30px; padding-left:5px; border-radius:4px; flex-direction:row; justify-content:space-around; align-items:center;\" onmouseover=\"this.style.backgroundColor='#BA9BF8'\" onmouseout=\"this.style.backgroundColor='#9D6CFF'\" onclick=\"window.commands?.execute('create-mitosheet-from-dataframe-output');\">See Full Dataframe in Mito</div> <script> if (window.commands.hasCommand('create-mitosheet-from-dataframe-output')) document.getElementById('0d103fef-758f-4e60-a58c-2cb422b01c5c').style.display = 'flex' </script> <table border=\"1\" class=\"dataframe\">\n",
       "  <thead>\n",
       "    <tr style=\"text-align: right;\">\n",
       "      <th></th>\n",
       "      <th>CodItem</th>\n",
       "      <th>Desc Item</th>\n",
       "      <th>Category</th>\n",
       "      <th>Family</th>\n",
       "      <th>Speciality</th>\n",
       "      <th>Testing Cost</th>\n",
       "    </tr>\n",
       "  </thead>\n",
       "  <tbody>\n",
       "    <tr>\n",
       "      <th>0</th>\n",
       "      <td>70003237</td>\n",
       "      <td>MAGNESIO, SORO (EXEMPLO DE EXPRESSAO DE RESULTADO: MG/DL)</td>\n",
       "      <td>CA</td>\n",
       "      <td>CORELAB</td>\n",
       "      <td>BIOCHEMISTRY</td>\n",
       "      <td>1.78</td>\n",
       "    </tr>\n",
       "    <tr>\n",
       "      <th>1</th>\n",
       "      <td>70000638</td>\n",
       "      <td>HEMOGRAMA, AUTOMATIZADO, SANGUE</td>\n",
       "      <td>CA</td>\n",
       "      <td>HEMATO</td>\n",
       "      <td>BLOOD COUNT</td>\n",
       "      <td>2.46</td>\n",
       "    </tr>\n",
       "    <tr>\n",
       "      <th>2</th>\n",
       "      <td>70001597</td>\n",
       "      <td>FERRITINA, SORO</td>\n",
       "      <td>CA</td>\n",
       "      <td>CORELAB</td>\n",
       "      <td>IMMUNOHORMONE</td>\n",
       "      <td>2.11</td>\n",
       "    </tr>\n",
       "    <tr>\n",
       "      <th>3</th>\n",
       "      <td>70000103</td>\n",
       "      <td>FERRO, DOSAGEM, SORO (EXEMPLO DE EXPRESSAO DE RESULTADO: NG/ML)</td>\n",
       "      <td>CA</td>\n",
       "      <td>CORELAB</td>\n",
       "      <td>BIOCHEMISTRY</td>\n",
       "      <td>0.80</td>\n",
       "    </tr>\n",
       "    <tr>\n",
       "      <th>4</th>\n",
       "      <td>70000224</td>\n",
       "      <td>CALCIO, DOSAGEM, SORO (EXEMPLO DE EXPRESSAO DE RESULTADO: MG/DL)</td>\n",
       "      <td>CA</td>\n",
       "      <td>CORELAB</td>\n",
       "      <td>BIOCHEMISTRY</td>\n",
       "      <td>1.02</td>\n",
       "    </tr>\n",
       "  </tbody>\n",
       "</table></div>"
      ],
      "text/plain": [
       "    CodItem                                          Desc Item Category  \\\n",
       "0  70003237  MAGNESIO, SORO (EXEMPLO DE EXPRESSAO DE RESULT...       CA   \n",
       "1  70000638                    HEMOGRAMA, AUTOMATIZADO, SANGUE       CA   \n",
       "2  70001597                                    FERRITINA, SORO       CA   \n",
       "3  70000103  FERRO, DOSAGEM, SORO (EXEMPLO DE EXPRESSAO DE ...       CA   \n",
       "4  70000224  CALCIO, DOSAGEM, SORO (EXEMPLO DE EXPRESSAO DE...       CA   \n",
       "\n",
       "    Family     Speciality  Testing Cost  \n",
       "0  CORELAB   BIOCHEMISTRY          1.78  \n",
       "1   HEMATO    BLOOD COUNT          2.46  \n",
       "2  CORELAB  IMMUNOHORMONE          2.11  \n",
       "3  CORELAB   BIOCHEMISTRY          0.80  \n",
       "4  CORELAB   BIOCHEMISTRY          1.02  "
      ]
     },
     "execution_count": 588,
     "metadata": {},
     "output_type": "execute_result"
    }
   ],
   "source": [
    "df_raw_test_data.head()"
   ]
  },
  {
   "cell_type": "code",
   "execution_count": 589,
   "metadata": {},
   "outputs": [
    {
     "name": "stdout",
     "output_type": "stream",
     "text": [
      "<class 'pandas.core.frame.DataFrame'>\n",
      "RangeIndex: 2002 entries, 0 to 2001\n",
      "Data columns (total 6 columns):\n",
      " #   Column        Non-Null Count  Dtype   \n",
      "---  ------        --------------  -----   \n",
      " 0   CodItem       2002 non-null   int64   \n",
      " 1   Desc Item     2002 non-null   category\n",
      " 2   Category      2002 non-null   category\n",
      " 3   Family        2002 non-null   category\n",
      " 4   Speciality    2002 non-null   category\n",
      " 5   Testing Cost  2002 non-null   float64 \n",
      "dtypes: category(4), float64(1), int64(1)\n",
      "memory usage: 125.0 KB\n"
     ]
    }
   ],
   "source": [
    "df_raw_test_data.info()"
   ]
  },
  {
   "cell_type": "code",
   "execution_count": 590,
   "metadata": {},
   "outputs": [
    {
     "data": {
      "text/plain": [
       "CodItem         0\n",
       "Desc Item       0\n",
       "Category        0\n",
       "Family          0\n",
       "Speciality      0\n",
       "Testing Cost    0\n",
       "dtype: int64"
      ]
     },
     "execution_count": 590,
     "metadata": {},
     "output_type": "execute_result"
    }
   ],
   "source": [
    "#Verificando a ocorrencia de valores missing\n",
    "df_raw_test_data.isnull().sum()"
   ]
  },
  {
   "cell_type": "markdown",
   "metadata": {},
   "source": [
    "Variavel Desc Item"
   ]
  },
  {
   "cell_type": "code",
   "execution_count": 591,
   "metadata": {},
   "outputs": [
    {
     "data": {
      "text/plain": [
       "<AxesSubplot:ylabel='Frequency'>"
      ]
     },
     "execution_count": 591,
     "metadata": {},
     "output_type": "execute_result"
    },
    {
     "data": {
      "image/png": "[encoded data removed]",
      "text/plain": [
       "<Figure size 432x288 with 1 Axes>"
      ]
     },
     "metadata": {
      "needs_background": "light"
     },
     "output_type": "display_data"
    }
   ],
   "source": [
    "df_raw_test_data[\"Desc Item\"].value_counts().plot.hist()"
   ]
  },
  {
   "cell_type": "markdown",
   "metadata": {},
   "source": [
    "Variavel Category"
   ]
  },
  {
   "cell_type": "code",
   "execution_count": 592,
   "metadata": {},
   "outputs": [
    {
     "data": {
      "text/plain": [
       "<AxesSubplot:>"
      ]
     },
     "execution_count": 592,
     "metadata": {},
     "output_type": "execute_result"
    },
    {
     "data": {
      "image/png": "[encoded data removed]",
      "text/plain": [
       "<Figure size 432x288 with 1 Axes>"
      ]
     },
     "metadata": {
      "needs_background": "light"
     },
     "output_type": "display_data"
    }
   ],
   "source": [
    "df_raw_test_data[\"Category\"].value_counts()\n",
    "df_raw_test_data[\"Category\"].value_counts().plot.bar()"
   ]
  },
  {
   "cell_type": "markdown",
   "metadata": {},
   "source": [
    "Variavel Family"
   ]
  },
  {
   "cell_type": "code",
   "execution_count": 593,
   "metadata": {},
   "outputs": [
    {
     "data": {
      "text/plain": [
       "CORELAB       990\n",
       "GENETICS      258\n",
       "ULTRASOUND    116\n",
       "TOXICO        106\n",
       "HEMATO        103\n",
       "MRI            78\n",
       "X-RAY          70\n",
       "CT SCAN        61\n",
       "MICROBIO       52\n",
       "VACCINE        27\n",
       "COPRO          24\n",
       "URINE          23\n",
       "NEONATO        22\n",
       "INTERNAL       12\n",
       "CARDIO         10\n",
       "GENITOURIN      9\n",
       "GASTROENT       8\n",
       "FEE             8\n",
       "ANATOMO         8\n",
       "CYTO            7\n",
       "MAMMO           5\n",
       "DENSITO         4\n",
       "DIAG            1\n",
       "Name: Family, dtype: int64"
      ]
     },
     "execution_count": 593,
     "metadata": {},
     "output_type": "execute_result"
    }
   ],
   "source": [
    "df_raw_test_data[\"Family\"].value_counts()"
   ]
  },
  {
   "cell_type": "code",
   "execution_count": 594,
   "metadata": {},
   "outputs": [
    {
     "data": {
      "text/plain": [
       "<AxesSubplot:>"
      ]
     },
     "execution_count": 594,
     "metadata": {},
     "output_type": "execute_result"
    },
    {
     "data": {
      "image/png": "[encoded data removed]",
      "text/plain": [
       "<Figure size 432x288 with 1 Axes>"
      ]
     },
     "metadata": {
      "needs_background": "light"
     },
     "output_type": "display_data"
    }
   ],
   "source": [
    "df_raw_test_data[\"Family\"].value_counts().plot.bar()"
   ]
  },
  {
   "cell_type": "markdown",
   "metadata": {},
   "source": [
    "Variavel Speciality"
   ]
  },
  {
   "cell_type": "code",
   "execution_count": 595,
   "metadata": {},
   "outputs": [
    {
     "data": {
      "text/plain": [
       "IMMUNOHORMONE       472\n",
       "BIOCHEMISTRY        248\n",
       "SPECIAL GENETICS    182\n",
       "ALLERGY             182\n",
       "SKELETAL MUSCLE      88\n",
       "                   ... \n",
       "LARYNGOSCOPY          1\n",
       "LIQUID CYTOLOGY       1\n",
       "MAMA                  1\n",
       "RESEARCH FEE          1\n",
       "ABPM                  1\n",
       "Name: Speciality, Length: 77, dtype: int64"
      ]
     },
     "execution_count": 595,
     "metadata": {},
     "output_type": "execute_result"
    }
   ],
   "source": [
    "df_raw_test_data[\"Speciality\"].value_counts()"
   ]
  },
  {
   "cell_type": "code",
   "execution_count": 596,
   "metadata": {},
   "outputs": [
    {
     "data": {
      "text/plain": [
       "<AxesSubplot:>"
      ]
     },
     "execution_count": 596,
     "metadata": {},
     "output_type": "execute_result"
    },
    {
     "data": {
      "image/png": "[encoded data removed]",
      "text/plain": [
       "<Figure size 432x288 with 1 Axes>"
      ]
     },
     "metadata": {
      "needs_background": "light"
     },
     "output_type": "display_data"
    }
   ],
   "source": [
    "df_raw_test_data[\"Speciality\"].value_counts().plot.bar()"
   ]
  },
  {
   "cell_type": "markdown",
   "metadata": {},
   "source": [
    "Variavel Testing cost"
   ]
  },
  {
   "cell_type": "code",
   "execution_count": 597,
   "metadata": {},
   "outputs": [],
   "source": [
    "df2 = df_raw_test_data"
   ]
  },
  {
   "cell_type": "code",
   "execution_count": 598,
   "metadata": {},
   "outputs": [
    {
     "data": {
      "text/plain": [
       "<AxesSubplot:ylabel='Frequency'>"
      ]
     },
     "execution_count": 598,
     "metadata": {},
     "output_type": "execute_result"
    },
    {
     "data": {
      "image/png": "[encoded data removed]",
      "text/plain": [
       "<Figure size 432x288 with 1 Axes>"
      ]
     },
     "metadata": {
      "needs_background": "light"
     },
     "output_type": "display_data"
    }
   ],
   "source": [
    "df2[\"Testing Cost\"].plot.hist() "
   ]
  },
  {
   "cell_type": "code",
   "execution_count": 599,
   "metadata": {},
   "outputs": [
    {
     "data": {
      "text/plain": [
       "<AxesSubplot:>"
      ]
     },
     "execution_count": 599,
     "metadata": {},
     "output_type": "execute_result"
    },
    {
     "data": {
      "image/png": "[encoded data removed]",
      "text/plain": [
       "<Figure size 432x288 with 1 Axes>"
      ]
     },
     "metadata": {
      "needs_background": "light"
     },
     "output_type": "display_data"
    }
   ],
   "source": [
    "df2[\"Testing Cost\"].plot.box() "
   ]
  },
  {
   "cell_type": "code",
   "execution_count": 600,
   "metadata": {},
   "outputs": [
    {
     "data": {
      "text/plain": [
       "(1762.46, 0.0, 21.189999999999998, 77.76745254745249)"
      ]
     },
     "execution_count": 600,
     "metadata": {},
     "output_type": "execute_result"
    }
   ],
   "source": [
    "df2[\"Testing Cost\"].max() , df2[\"Testing Cost\"].min() ,df2[\"Testing Cost\"].median() , df2[\"Testing Cost\"].mean()"
   ]
  },
  {
   "cell_type": "code",
   "execution_count": 601,
   "metadata": {},
   "outputs": [
    {
     "data": {
      "text/plain": [
       "CodItem         7\n",
       "Desc Item       7\n",
       "Category        7\n",
       "Family          7\n",
       "Speciality      7\n",
       "Testing Cost    7\n",
       "dtype: int64"
      ]
     },
     "execution_count": 601,
     "metadata": {},
     "output_type": "execute_result"
    }
   ],
   "source": [
    "df2[df2[\"Testing Cost\"] == 0].count()"
   ]
  },
  {
   "cell_type": "code",
   "execution_count": 602,
   "metadata": {},
   "outputs": [
    {
     "data": {
      "text/html": [
       "<div><div id=23a23d05-6d5c-476a-976c-eb03ac63e519 style=\"display:none; background-color:#9D6CFF; color:white; width:200px; height:30px; padding-left:5px; border-radius:4px; flex-direction:row; justify-content:space-around; align-items:center;\" onmouseover=\"this.style.backgroundColor='#BA9BF8'\" onmouseout=\"this.style.backgroundColor='#9D6CFF'\" onclick=\"window.commands?.execute('create-mitosheet-from-dataframe-output');\">See Full Dataframe in Mito</div> <script> if (window.commands.hasCommand('create-mitosheet-from-dataframe-output')) document.getElementById('23a23d05-6d5c-476a-976c-eb03ac63e519').style.display = 'flex' </script> <table border=\"1\" class=\"dataframe\">\n",
       "  <thead>\n",
       "    <tr style=\"text-align: right;\">\n",
       "      <th></th>\n",
       "      <th>CodItem</th>\n",
       "      <th>Desc Item</th>\n",
       "      <th>Category</th>\n",
       "      <th>Family</th>\n",
       "      <th>Speciality</th>\n",
       "      <th>Testing Cost</th>\n",
       "    </tr>\n",
       "  </thead>\n",
       "  <tbody>\n",
       "    <tr>\n",
       "      <th>187</th>\n",
       "      <td>70006809</td>\n",
       "      <td>RM MATERIAIS/MEDICAMENTOS</td>\n",
       "      <td>RID</td>\n",
       "      <td>MRI</td>\n",
       "      <td>MAT / MED</td>\n",
       "      <td>0.0</td>\n",
       "    </tr>\n",
       "    <tr>\n",
       "      <th>343</th>\n",
       "      <td>70006810</td>\n",
       "      <td>TC MATERIAIS/MEDICAMENTOS</td>\n",
       "      <td>RID</td>\n",
       "      <td>CT SCAN</td>\n",
       "      <td>MAT / MED</td>\n",
       "      <td>0.0</td>\n",
       "    </tr>\n",
       "    <tr>\n",
       "      <th>818</th>\n",
       "      <td>70002489</td>\n",
       "      <td>VOLUME URINARIO</td>\n",
       "      <td>CA</td>\n",
       "      <td>CORELAB</td>\n",
       "      <td>BIOCHEMISTRY</td>\n",
       "      <td>0.0</td>\n",
       "    </tr>\n",
       "    <tr>\n",
       "      <th>1536</th>\n",
       "      <td>70001660</td>\n",
       "      <td>PROLACTINA (BASAL DE PROVA), SORO</td>\n",
       "      <td>CA</td>\n",
       "      <td>CORELAB</td>\n",
       "      <td>IMMUNOHORMONE</td>\n",
       "      <td>0.0</td>\n",
       "    </tr>\n",
       "    <tr>\n",
       "      <th>1860</th>\n",
       "      <td>70006904</td>\n",
       "      <td>DERIVADO - DOPPLER TIREOIDE</td>\n",
       "      <td>RID</td>\n",
       "      <td>ULTRASOUND</td>\n",
       "      <td>DOPPLER</td>\n",
       "      <td>0.0</td>\n",
       "    </tr>\n",
       "    <tr>\n",
       "      <th>1877</th>\n",
       "      <td>70006910</td>\n",
       "      <td>DERIVADO - DOPPLER ABDOME SUPERIOR</td>\n",
       "      <td>RID</td>\n",
       "      <td>ULTRASOUND</td>\n",
       "      <td>DOPPLER</td>\n",
       "      <td>0.0</td>\n",
       "    </tr>\n",
       "    <tr>\n",
       "      <th>1978</th>\n",
       "      <td>70006899</td>\n",
       "      <td>DERIVADO - DOPPLER VASOS CERVICAIS ART</td>\n",
       "      <td>RID</td>\n",
       "      <td>ULTRASOUND</td>\n",
       "      <td>DOPPLER</td>\n",
       "      <td>0.0</td>\n",
       "    </tr>\n",
       "  </tbody>\n",
       "</table></div>"
      ],
      "text/plain": [
       "       CodItem                               Desc Item Category      Family  \\\n",
       "187   70006809               RM MATERIAIS/MEDICAMENTOS      RID         MRI   \n",
       "343   70006810               TC MATERIAIS/MEDICAMENTOS      RID     CT SCAN   \n",
       "818   70002489                         VOLUME URINARIO       CA     CORELAB   \n",
       "1536  70001660       PROLACTINA (BASAL DE PROVA), SORO       CA     CORELAB   \n",
       "1860  70006904             DERIVADO - DOPPLER TIREOIDE      RID  ULTRASOUND   \n",
       "1877  70006910      DERIVADO - DOPPLER ABDOME SUPERIOR      RID  ULTRASOUND   \n",
       "1978  70006899  DERIVADO - DOPPLER VASOS CERVICAIS ART      RID  ULTRASOUND   \n",
       "\n",
       "         Speciality  Testing Cost  \n",
       "187       MAT / MED           0.0  \n",
       "343       MAT / MED           0.0  \n",
       "818    BIOCHEMISTRY           0.0  \n",
       "1536  IMMUNOHORMONE           0.0  \n",
       "1860        DOPPLER           0.0  \n",
       "1877        DOPPLER           0.0  \n",
       "1978        DOPPLER           0.0  "
      ]
     },
     "execution_count": 602,
     "metadata": {},
     "output_type": "execute_result"
    }
   ],
   "source": [
    "df2[df2[\"Testing Cost\"] == 0.0]"
   ]
  },
  {
   "cell_type": "code",
   "execution_count": 603,
   "metadata": {},
   "outputs": [],
   "source": [
    "df2[\"Testing Cost\"] =  df2[\"Testing Cost\"].replace(0.0, 21.19)"
   ]
  },
  {
   "cell_type": "code",
   "execution_count": 604,
   "metadata": {},
   "outputs": [
    {
     "data": {
      "text/plain": [
       "CodItem         0\n",
       "Desc Item       0\n",
       "Category        0\n",
       "Family          0\n",
       "Speciality      0\n",
       "Testing Cost    0\n",
       "dtype: int64"
      ]
     },
     "execution_count": 604,
     "metadata": {},
     "output_type": "execute_result"
    }
   ],
   "source": [
    "df2[df2[\"Testing Cost\"] == 0].count()"
   ]
  },
  {
   "cell_type": "code",
   "execution_count": 605,
   "metadata": {},
   "outputs": [
    {
     "data": {
      "text/html": [
       "<div><div id=38cefbb0-376e-4d7f-ad4f-945339bc9673 style=\"display:none; background-color:#9D6CFF; color:white; width:200px; height:30px; padding-left:5px; border-radius:4px; flex-direction:row; justify-content:space-around; align-items:center;\" onmouseover=\"this.style.backgroundColor='#BA9BF8'\" onmouseout=\"this.style.backgroundColor='#9D6CFF'\" onclick=\"window.commands?.execute('create-mitosheet-from-dataframe-output');\">See Full Dataframe in Mito</div> <script> if (window.commands.hasCommand('create-mitosheet-from-dataframe-output')) document.getElementById('38cefbb0-376e-4d7f-ad4f-945339bc9673').style.display = 'flex' </script> <table border=\"1\" class=\"dataframe\">\n",
       "  <thead>\n",
       "    <tr style=\"text-align: right;\">\n",
       "      <th></th>\n",
       "      <th>CodItem</th>\n",
       "      <th>Desc Item</th>\n",
       "      <th>Category</th>\n",
       "      <th>Family</th>\n",
       "      <th>Speciality</th>\n",
       "      <th>Testing Cost</th>\n",
       "    </tr>\n",
       "  </thead>\n",
       "  <tbody>\n",
       "    <tr>\n",
       "      <th>0</th>\n",
       "      <td>70003237</td>\n",
       "      <td>MAGNESIO, SORO (EXEMPLO DE EXPRESSAO DE RESULTADO: MG/DL)</td>\n",
       "      <td>CA</td>\n",
       "      <td>CORELAB</td>\n",
       "      <td>BIOCHEMISTRY</td>\n",
       "      <td>1.78</td>\n",
       "    </tr>\n",
       "    <tr>\n",
       "      <th>1</th>\n",
       "      <td>70000638</td>\n",
       "      <td>HEMOGRAMA, AUTOMATIZADO, SANGUE</td>\n",
       "      <td>CA</td>\n",
       "      <td>HEMATO</td>\n",
       "      <td>BLOOD COUNT</td>\n",
       "      <td>2.46</td>\n",
       "    </tr>\n",
       "    <tr>\n",
       "      <th>2</th>\n",
       "      <td>70001597</td>\n",
       "      <td>FERRITINA, SORO</td>\n",
       "      <td>CA</td>\n",
       "      <td>CORELAB</td>\n",
       "      <td>IMMUNOHORMONE</td>\n",
       "      <td>2.11</td>\n",
       "    </tr>\n",
       "    <tr>\n",
       "      <th>3</th>\n",
       "      <td>70000103</td>\n",
       "      <td>FERRO, DOSAGEM, SORO (EXEMPLO DE EXPRESSAO DE RESULTADO: NG/ML)</td>\n",
       "      <td>CA</td>\n",
       "      <td>CORELAB</td>\n",
       "      <td>BIOCHEMISTRY</td>\n",
       "      <td>0.80</td>\n",
       "    </tr>\n",
       "    <tr>\n",
       "      <th>4</th>\n",
       "      <td>70000224</td>\n",
       "      <td>CALCIO, DOSAGEM, SORO (EXEMPLO DE EXPRESSAO DE RESULTADO: MG/DL)</td>\n",
       "      <td>CA</td>\n",
       "      <td>CORELAB</td>\n",
       "      <td>BIOCHEMISTRY</td>\n",
       "      <td>1.02</td>\n",
       "    </tr>\n",
       "  </tbody>\n",
       "</table></div>"
      ],
      "text/plain": [
       "    CodItem                                          Desc Item Category  \\\n",
       "0  70003237  MAGNESIO, SORO (EXEMPLO DE EXPRESSAO DE RESULT...       CA   \n",
       "1  70000638                    HEMOGRAMA, AUTOMATIZADO, SANGUE       CA   \n",
       "2  70001597                                    FERRITINA, SORO       CA   \n",
       "3  70000103  FERRO, DOSAGEM, SORO (EXEMPLO DE EXPRESSAO DE ...       CA   \n",
       "4  70000224  CALCIO, DOSAGEM, SORO (EXEMPLO DE EXPRESSAO DE...       CA   \n",
       "\n",
       "    Family     Speciality  Testing Cost  \n",
       "0  CORELAB   BIOCHEMISTRY          1.78  \n",
       "1   HEMATO    BLOOD COUNT          2.46  \n",
       "2  CORELAB  IMMUNOHORMONE          2.11  \n",
       "3  CORELAB   BIOCHEMISTRY          0.80  \n",
       "4  CORELAB   BIOCHEMISTRY          1.02  "
      ]
     },
     "execution_count": 605,
     "metadata": {},
     "output_type": "execute_result"
    }
   ],
   "source": [
    "df2.head()"
   ]
  },
  {
   "cell_type": "markdown",
   "metadata": {},
   "source": [
    "Final Sanity check test data"
   ]
  },
  {
   "cell_type": "markdown",
   "metadata": {},
   "source": [
    "Mergir as duas tabelas a partir da coluna CodItem"
   ]
  },
  {
   "cell_type": "code",
   "execution_count": 606,
   "metadata": {},
   "outputs": [],
   "source": [
    "df_merged = df1.merge(df2.loc[:, [\"CodItem\", \"Category\", \"Testing Cost\"]], how = \"inner\", on = [\"CodItem\"])"
   ]
  },
  {
   "cell_type": "code",
   "execution_count": 607,
   "metadata": {},
   "outputs": [
    {
     "data": {
      "text/html": [
       "<div><div id=3b843814-a84e-43eb-9f57-abe8177b74c9 style=\"display:none; background-color:#9D6CFF; color:white; width:200px; height:30px; padding-left:5px; border-radius:4px; flex-direction:row; justify-content:space-around; align-items:center;\" onmouseover=\"this.style.backgroundColor='#BA9BF8'\" onmouseout=\"this.style.backgroundColor='#9D6CFF'\" onclick=\"window.commands?.execute('create-mitosheet-from-dataframe-output');\">See Full Dataframe in Mito</div> <script> if (window.commands.hasCommand('create-mitosheet-from-dataframe-output')) document.getElementById('3b843814-a84e-43eb-9f57-abe8177b74c9').style.display = 'flex' </script> <table border=\"1\" class=\"dataframe\">\n",
       "  <thead>\n",
       "    <tr style=\"text-align: right;\">\n",
       "      <th></th>\n",
       "      <th>Patient Id</th>\n",
       "      <th>Gender</th>\n",
       "      <th>Date of birth</th>\n",
       "      <th>Date of service</th>\n",
       "      <th>Service Id</th>\n",
       "      <th>Lab Id</th>\n",
       "      <th>CodItem</th>\n",
       "      <th>Testing Cost_x</th>\n",
       "      <th>Age</th>\n",
       "      <th>Category</th>\n",
       "      <th>Testing Cost_y</th>\n",
       "    </tr>\n",
       "  </thead>\n",
       "  <tbody>\n",
       "    <tr>\n",
       "      <th>0</th>\n",
       "      <td>10210830256-BIO003</td>\n",
       "      <td>F</td>\n",
       "      <td>01/08/1976 00:00:00</td>\n",
       "      <td>2019-01-07</td>\n",
       "      <td>571904533475-38</td>\n",
       "      <td>L133</td>\n",
       "      <td>70003237</td>\n",
       "      <td>9.0</td>\n",
       "      <td>45</td>\n",
       "      <td>CA</td>\n",
       "      <td>1.78</td>\n",
       "    </tr>\n",
       "    <tr>\n",
       "      <th>1</th>\n",
       "      <td>10225666807-BIO002</td>\n",
       "      <td>F</td>\n",
       "      <td>16/07/1968 00:00:00</td>\n",
       "      <td>2019-01-15</td>\n",
       "      <td>573103867832-51</td>\n",
       "      <td>L139</td>\n",
       "      <td>70003237</td>\n",
       "      <td>9.0</td>\n",
       "      <td>53</td>\n",
       "      <td>CA</td>\n",
       "      <td>1.78</td>\n",
       "    </tr>\n",
       "    <tr>\n",
       "      <th>2</th>\n",
       "      <td>571700011536-BIO002</td>\n",
       "      <td>F</td>\n",
       "      <td>17/04/1961 00:00:00</td>\n",
       "      <td>2019-01-04</td>\n",
       "      <td>571706608210-36</td>\n",
       "      <td>L131</td>\n",
       "      <td>70003237</td>\n",
       "      <td>9.0</td>\n",
       "      <td>60</td>\n",
       "      <td>CA</td>\n",
       "      <td>1.78</td>\n",
       "    </tr>\n",
       "    <tr>\n",
       "      <th>3</th>\n",
       "      <td>574400001820-BIO002</td>\n",
       "      <td>F</td>\n",
       "      <td>01/04/1966 00:00:00</td>\n",
       "      <td>2019-01-17</td>\n",
       "      <td>574400919309-64</td>\n",
       "      <td>L150</td>\n",
       "      <td>70003237</td>\n",
       "      <td>9.0</td>\n",
       "      <td>56</td>\n",
       "      <td>CA</td>\n",
       "      <td>1.78</td>\n",
       "    </tr>\n",
       "    <tr>\n",
       "      <th>4</th>\n",
       "      <td>10210855836-BIO003</td>\n",
       "      <td>F</td>\n",
       "      <td>25/12/1980 00:00:00</td>\n",
       "      <td>2019-02-08</td>\n",
       "      <td>575007148185-72</td>\n",
       "      <td>L155</td>\n",
       "      <td>70003237</td>\n",
       "      <td>9.0</td>\n",
       "      <td>41</td>\n",
       "      <td>CA</td>\n",
       "      <td>1.78</td>\n",
       "    </tr>\n",
       "  </tbody>\n",
       "</table></div>"
      ],
      "text/plain": [
       "            Patient Id Gender        Date of birth Date of service  \\\n",
       "0   10210830256-BIO003      F  01/08/1976 00:00:00      2019-01-07   \n",
       "1   10225666807-BIO002      F  16/07/1968 00:00:00      2019-01-15   \n",
       "2  571700011536-BIO002      F  17/04/1961 00:00:00      2019-01-04   \n",
       "3  574400001820-BIO002      F  01/04/1966 00:00:00      2019-01-17   \n",
       "4   10210855836-BIO003      F  25/12/1980 00:00:00      2019-02-08   \n",
       "\n",
       "        Service Id Lab Id   CodItem  Testing Cost_x  Age Category  \\\n",
       "0  571904533475-38   L133  70003237             9.0   45       CA   \n",
       "1  573103867832-51   L139  70003237             9.0   53       CA   \n",
       "2  571706608210-36   L131  70003237             9.0   60       CA   \n",
       "3  574400919309-64   L150  70003237             9.0   56       CA   \n",
       "4  575007148185-72   L155  70003237             9.0   41       CA   \n",
       "\n",
       "   Testing Cost_y  \n",
       "0            1.78  \n",
       "1            1.78  \n",
       "2            1.78  \n",
       "3            1.78  \n",
       "4            1.78  "
      ]
     },
     "execution_count": 607,
     "metadata": {},
     "output_type": "execute_result"
    }
   ],
   "source": [
    "df_merged.head()"
   ]
  },
  {
   "cell_type": "code",
   "execution_count": 608,
   "metadata": {},
   "outputs": [],
   "source": [
    "df_merged.drop([\"Date of birth\", \"Date of service\", \"Service Id\", \"CodItem\"], axis=1, inplace=True)"
   ]
  },
  {
   "cell_type": "code",
   "execution_count": 609,
   "metadata": {},
   "outputs": [],
   "source": [
    "df_merged[\"Faturamento\"] = df_merged[\"Testing Cost_x\"] - df_merged[\"Testing Cost_y\"]"
   ]
  },
  {
   "cell_type": "code",
   "execution_count": 610,
   "metadata": {},
   "outputs": [
    {
     "data": {
      "text/html": [
       "<div><div id=3b0c4708-1920-48b6-95f5-495f4c4cc373 style=\"display:none; background-color:#9D6CFF; color:white; width:200px; height:30px; padding-left:5px; border-radius:4px; flex-direction:row; justify-content:space-around; align-items:center;\" onmouseover=\"this.style.backgroundColor='#BA9BF8'\" onmouseout=\"this.style.backgroundColor='#9D6CFF'\" onclick=\"window.commands?.execute('create-mitosheet-from-dataframe-output');\">See Full Dataframe in Mito</div> <script> if (window.commands.hasCommand('create-mitosheet-from-dataframe-output')) document.getElementById('3b0c4708-1920-48b6-95f5-495f4c4cc373').style.display = 'flex' </script> <table border=\"1\" class=\"dataframe\">\n",
       "  <thead>\n",
       "    <tr style=\"text-align: right;\">\n",
       "      <th></th>\n",
       "      <th>Patient Id</th>\n",
       "      <th>Gender</th>\n",
       "      <th>Lab Id</th>\n",
       "      <th>Testing Cost_x</th>\n",
       "      <th>Age</th>\n",
       "      <th>Category</th>\n",
       "      <th>Testing Cost_y</th>\n",
       "      <th>Faturamento</th>\n",
       "    </tr>\n",
       "  </thead>\n",
       "  <tbody>\n",
       "    <tr>\n",
       "      <th>0</th>\n",
       "      <td>10210830256-BIO003</td>\n",
       "      <td>F</td>\n",
       "      <td>L133</td>\n",
       "      <td>9.0</td>\n",
       "      <td>45</td>\n",
       "      <td>CA</td>\n",
       "      <td>1.78</td>\n",
       "      <td>7.22</td>\n",
       "    </tr>\n",
       "    <tr>\n",
       "      <th>1</th>\n",
       "      <td>10225666807-BIO002</td>\n",
       "      <td>F</td>\n",
       "      <td>L139</td>\n",
       "      <td>9.0</td>\n",
       "      <td>53</td>\n",
       "      <td>CA</td>\n",
       "      <td>1.78</td>\n",
       "      <td>7.22</td>\n",
       "    </tr>\n",
       "    <tr>\n",
       "      <th>2</th>\n",
       "      <td>571700011536-BIO002</td>\n",
       "      <td>F</td>\n",
       "      <td>L131</td>\n",
       "      <td>9.0</td>\n",
       "      <td>60</td>\n",
       "      <td>CA</td>\n",
       "      <td>1.78</td>\n",
       "      <td>7.22</td>\n",
       "    </tr>\n",
       "    <tr>\n",
       "      <th>3</th>\n",
       "      <td>574400001820-BIO002</td>\n",
       "      <td>F</td>\n",
       "      <td>L150</td>\n",
       "      <td>9.0</td>\n",
       "      <td>56</td>\n",
       "      <td>CA</td>\n",
       "      <td>1.78</td>\n",
       "      <td>7.22</td>\n",
       "    </tr>\n",
       "    <tr>\n",
       "      <th>4</th>\n",
       "      <td>10210855836-BIO003</td>\n",
       "      <td>F</td>\n",
       "      <td>L155</td>\n",
       "      <td>9.0</td>\n",
       "      <td>41</td>\n",
       "      <td>CA</td>\n",
       "      <td>1.78</td>\n",
       "      <td>7.22</td>\n",
       "    </tr>\n",
       "  </tbody>\n",
       "</table></div>"
      ],
      "text/plain": [
       "            Patient Id Gender Lab Id  Testing Cost_x  Age Category  \\\n",
       "0   10210830256-BIO003      F   L133             9.0   45       CA   \n",
       "1   10225666807-BIO002      F   L139             9.0   53       CA   \n",
       "2  571700011536-BIO002      F   L131             9.0   60       CA   \n",
       "3  574400001820-BIO002      F   L150             9.0   56       CA   \n",
       "4   10210855836-BIO003      F   L155             9.0   41       CA   \n",
       "\n",
       "   Testing Cost_y  Faturamento  \n",
       "0            1.78         7.22  \n",
       "1            1.78         7.22  \n",
       "2            1.78         7.22  \n",
       "3            1.78         7.22  \n",
       "4            1.78         7.22  "
      ]
     },
     "execution_count": 610,
     "metadata": {},
     "output_type": "execute_result"
    }
   ],
   "source": [
    "df_merged.head()"
   ]
  },
  {
   "cell_type": "code",
   "execution_count": 611,
   "metadata": {},
   "outputs": [
    {
     "name": "stdout",
     "output_type": "stream",
     "text": [
      "<class 'pandas.core.frame.DataFrame'>\n",
      "Int64Index: 2353297 entries, 0 to 2353296\n",
      "Data columns (total 8 columns):\n",
      " #   Column          Dtype   \n",
      "---  ------          -----   \n",
      " 0   Patient Id      object  \n",
      " 1   Gender          category\n",
      " 2   Lab Id          object  \n",
      " 3   Testing Cost_x  float64 \n",
      " 4   Age             int64   \n",
      " 5   Category        category\n",
      " 6   Testing Cost_y  float64 \n",
      " 7   Faturamento     float64 \n",
      "dtypes: category(2), float64(3), int64(1), object(2)\n",
      "memory usage: 130.2+ MB\n"
     ]
    }
   ],
   "source": [
    "df_merged.info()"
   ]
  },
  {
   "cell_type": "markdown",
   "metadata": {},
   "source": [
    "Variavel Faturamento"
   ]
  },
  {
   "cell_type": "code",
   "execution_count": 612,
   "metadata": {},
   "outputs": [
    {
     "data": {
      "text/plain": [
       "<AxesSubplot:ylabel='Frequency'>"
      ]
     },
     "execution_count": 612,
     "metadata": {},
     "output_type": "execute_result"
    },
    {
     "data": {
      "image/png": "[encoded data removed]",
      "text/plain": [
       "<Figure size 432x288 with 1 Axes>"
      ]
     },
     "metadata": {
      "needs_background": "light"
     },
     "output_type": "display_data"
    }
   ],
   "source": [
    "df_merged[\"Faturamento\"].plot.hist() "
   ]
  },
  {
   "cell_type": "code",
   "execution_count": 613,
   "metadata": {},
   "outputs": [
    {
     "data": {
      "text/plain": [
       "<AxesSubplot:>"
      ]
     },
     "execution_count": 613,
     "metadata": {},
     "output_type": "execute_result"
    },
    {
     "data": {
      "image/png": "[encoded data removed]",
      "text/plain": [
       "<Figure size 432x288 with 1 Axes>"
      ]
     },
     "metadata": {
      "needs_background": "light"
     },
     "output_type": "display_data"
    }
   ],
   "source": [
    "df_merged[\"Faturamento\"].plot.box() "
   ]
  },
  {
   "cell_type": "code",
   "execution_count": 614,
   "metadata": {},
   "outputs": [
    {
     "data": {
      "text/plain": [
       "(8009.23, -1291.21, 14.98, 35.92372489352855)"
      ]
     },
     "execution_count": 614,
     "metadata": {},
     "output_type": "execute_result"
    }
   ],
   "source": [
    "df_merged[\"Faturamento\"].max() ,df_merged[\"Faturamento\"].min() , df_merged[\"Faturamento\"].median() , df_merged[\"Faturamento\"].mean()"
   ]
  },
  {
   "cell_type": "code",
   "execution_count": 615,
   "metadata": {},
   "outputs": [
    {
     "data": {
      "text/html": [
       "<div><div id=36cb47ce-bccc-4045-80e2-943b4042da9b style=\"display:none; background-color:#9D6CFF; color:white; width:200px; height:30px; padding-left:5px; border-radius:4px; flex-direction:row; justify-content:space-around; align-items:center;\" onmouseover=\"this.style.backgroundColor='#BA9BF8'\" onmouseout=\"this.style.backgroundColor='#9D6CFF'\" onclick=\"window.commands?.execute('create-mitosheet-from-dataframe-output');\">See Full Dataframe in Mito</div> <script> if (window.commands.hasCommand('create-mitosheet-from-dataframe-output')) document.getElementById('36cb47ce-bccc-4045-80e2-943b4042da9b').style.display = 'flex' </script> <table border=\"1\" class=\"dataframe\">\n",
       "  <thead>\n",
       "    <tr style=\"text-align: right;\">\n",
       "      <th></th>\n",
       "      <th>Patient Id</th>\n",
       "      <th>Gender</th>\n",
       "      <th>Lab Id</th>\n",
       "      <th>Testing Cost_x</th>\n",
       "      <th>Age</th>\n",
       "      <th>Category</th>\n",
       "      <th>Testing Cost_y</th>\n",
       "      <th>Faturamento</th>\n",
       "    </tr>\n",
       "  </thead>\n",
       "  <tbody>\n",
       "    <tr>\n",
       "      <th>452451</th>\n",
       "      <td>10210848051-BIO003</td>\n",
       "      <td>F</td>\n",
       "      <td>L133</td>\n",
       "      <td>46.0</td>\n",
       "      <td>39</td>\n",
       "      <td>RID</td>\n",
       "      <td>119.73</td>\n",
       "      <td>-73.73</td>\n",
       "    </tr>\n",
       "    <tr>\n",
       "      <th>452452</th>\n",
       "      <td>223182276-BIO003</td>\n",
       "      <td>F</td>\n",
       "      <td>L133</td>\n",
       "      <td>46.0</td>\n",
       "      <td>63</td>\n",
       "      <td>RID</td>\n",
       "      <td>119.73</td>\n",
       "      <td>-73.73</td>\n",
       "    </tr>\n",
       "    <tr>\n",
       "      <th>452453</th>\n",
       "      <td>562000042929-BIO002</td>\n",
       "      <td>F</td>\n",
       "      <td>L061</td>\n",
       "      <td>46.0</td>\n",
       "      <td>58</td>\n",
       "      <td>RID</td>\n",
       "      <td>119.73</td>\n",
       "      <td>-73.73</td>\n",
       "    </tr>\n",
       "    <tr>\n",
       "      <th>452454</th>\n",
       "      <td>573300004569-BIO002</td>\n",
       "      <td>F</td>\n",
       "      <td>L152</td>\n",
       "      <td>46.0</td>\n",
       "      <td>53</td>\n",
       "      <td>RID</td>\n",
       "      <td>119.73</td>\n",
       "      <td>-73.73</td>\n",
       "    </tr>\n",
       "    <tr>\n",
       "      <th>452455</th>\n",
       "      <td>10225705055-BIO002</td>\n",
       "      <td>F</td>\n",
       "      <td>L139</td>\n",
       "      <td>46.0</td>\n",
       "      <td>33</td>\n",
       "      <td>RID</td>\n",
       "      <td>119.73</td>\n",
       "      <td>-73.73</td>\n",
       "    </tr>\n",
       "    <tr>\n",
       "      <th>...</th>\n",
       "      <td>...</td>\n",
       "      <td>...</td>\n",
       "      <td>...</td>\n",
       "      <td>...</td>\n",
       "      <td>...</td>\n",
       "      <td>...</td>\n",
       "      <td>...</td>\n",
       "      <td>...</td>\n",
       "    </tr>\n",
       "    <tr>\n",
       "      <th>2353169</th>\n",
       "      <td>7659947126-1</td>\n",
       "      <td>M</td>\n",
       "      <td>L160</td>\n",
       "      <td>15.0</td>\n",
       "      <td>39</td>\n",
       "      <td>CA</td>\n",
       "      <td>59.84</td>\n",
       "      <td>-44.84</td>\n",
       "    </tr>\n",
       "    <tr>\n",
       "      <th>2353170</th>\n",
       "      <td>7661477795-1</td>\n",
       "      <td>M</td>\n",
       "      <td>L157</td>\n",
       "      <td>15.0</td>\n",
       "      <td>36</td>\n",
       "      <td>CA</td>\n",
       "      <td>59.84</td>\n",
       "      <td>-44.84</td>\n",
       "    </tr>\n",
       "    <tr>\n",
       "      <th>2353249</th>\n",
       "      <td>7661142286-1</td>\n",
       "      <td>F</td>\n",
       "      <td>L967</td>\n",
       "      <td>24.0</td>\n",
       "      <td>36</td>\n",
       "      <td>PA</td>\n",
       "      <td>29.88</td>\n",
       "      <td>-5.88</td>\n",
       "    </tr>\n",
       "    <tr>\n",
       "      <th>2353250</th>\n",
       "      <td>7663214635-1</td>\n",
       "      <td>F</td>\n",
       "      <td>L123</td>\n",
       "      <td>24.0</td>\n",
       "      <td>63</td>\n",
       "      <td>PA</td>\n",
       "      <td>29.88</td>\n",
       "      <td>-5.88</td>\n",
       "    </tr>\n",
       "    <tr>\n",
       "      <th>2353251</th>\n",
       "      <td>6173777583-1</td>\n",
       "      <td>F</td>\n",
       "      <td>L155</td>\n",
       "      <td>24.0</td>\n",
       "      <td>50</td>\n",
       "      <td>PA</td>\n",
       "      <td>29.88</td>\n",
       "      <td>-5.88</td>\n",
       "    </tr>\n",
       "  </tbody>\n",
       "</table></div>"
      ],
      "text/plain": [
       "                  Patient Id Gender Lab Id  Testing Cost_x  Age Category  \\\n",
       "452451    10210848051-BIO003      F   L133            46.0   39      RID   \n",
       "452452      223182276-BIO003      F   L133            46.0   63      RID   \n",
       "452453   562000042929-BIO002      F   L061            46.0   58      RID   \n",
       "452454   573300004569-BIO002      F   L152            46.0   53      RID   \n",
       "452455    10225705055-BIO002      F   L139            46.0   33      RID   \n",
       "...                      ...    ...    ...             ...  ...      ...   \n",
       "2353169         7659947126-1      M   L160            15.0   39       CA   \n",
       "2353170         7661477795-1      M   L157            15.0   36       CA   \n",
       "2353249         7661142286-1      F   L967            24.0   36       PA   \n",
       "2353250         7663214635-1      F   L123            24.0   63       PA   \n",
       "2353251         6173777583-1      F   L155            24.0   50       PA   \n",
       "\n",
       "         Testing Cost_y  Faturamento  \n",
       "452451           119.73       -73.73  \n",
       "452452           119.73       -73.73  \n",
       "452453           119.73       -73.73  \n",
       "452454           119.73       -73.73  \n",
       "452455           119.73       -73.73  \n",
       "...                 ...          ...  \n",
       "2353169           59.84       -44.84  \n",
       "2353170           59.84       -44.84  \n",
       "2353249           29.88        -5.88  \n",
       "2353250           29.88        -5.88  \n",
       "2353251           29.88        -5.88  \n",
       "\n",
       "[39556 rows x 8 columns]"
      ]
     },
     "execution_count": 615,
     "metadata": {},
     "output_type": "execute_result"
    }
   ],
   "source": [
    "df_merged[df_merged[\"Faturamento\"] <= 0 ]"
   ]
  },
  {
   "cell_type": "code",
   "execution_count": 616,
   "metadata": {},
   "outputs": [
    {
     "data": {
      "text/plain": [
       "Patient Id        1.680876\n",
       "Gender            1.680876\n",
       "Lab Id            1.680876\n",
       "Testing Cost_x    1.680876\n",
       "Age               1.680876\n",
       "Category          1.680876\n",
       "Testing Cost_y    1.680876\n",
       "Faturamento       1.680876\n",
       "dtype: float64"
      ]
     },
     "execution_count": 616,
     "metadata": {},
     "output_type": "execute_result"
    }
   ],
   "source": [
    "#Calculando o percentual de operacoes que deram prejuizo\n",
    "((df_merged[df_merged[\"Faturamento\"] <= 0 ].count()) / (df_merged.count()) ) * 100\n"
   ]
  },
  {
   "cell_type": "markdown",
   "metadata": {},
   "source": [
    "Categorizando a coluna de idade em faixas etarias\n",
    "\n",
    "\n",
    "\n",
    "Catgorizacao por idades:\n",
    "    Criancas -> 0 ate 9 anos\n",
    "    Jovens -> 10 ate 19 anos\n",
    "    Adultos -> 20 ate 59 anos \n",
    "    Idosos -> 60+ anos"
   ]
  },
  {
   "cell_type": "code",
   "execution_count": 617,
   "metadata": {},
   "outputs": [],
   "source": [
    "df = df_merged"
   ]
  },
  {
   "cell_type": "code",
   "execution_count": 618,
   "metadata": {},
   "outputs": [],
   "source": [
    "def faixaetaria(i):\n",
    "    if i >= 0 &   i <= 9:\n",
    "        return (\"crianca\")\n",
    "    elif i >=10 & i <= 19:\n",
    "        return(\"jovem\")\n",
    "    elif i >=20 & i<=59:\n",
    "        return (\"adulto\")\n",
    "    else:\n",
    "        return (\"idoso\")"
   ]
  },
  {
   "cell_type": "code",
   "execution_count": 619,
   "metadata": {},
   "outputs": [],
   "source": [
    "df[\"faixa etaria\"] = df[\"Age\"].apply(faixaetaria)"
   ]
  },
  {
   "cell_type": "code",
   "execution_count": 620,
   "metadata": {},
   "outputs": [
    {
     "data": {
      "text/html": [
       "<div><div id=c662766c-4c4b-4f41-90d6-7fe8ed8fb786 style=\"display:none; background-color:#9D6CFF; color:white; width:200px; height:30px; padding-left:5px; border-radius:4px; flex-direction:row; justify-content:space-around; align-items:center;\" onmouseover=\"this.style.backgroundColor='#BA9BF8'\" onmouseout=\"this.style.backgroundColor='#9D6CFF'\" onclick=\"window.commands?.execute('create-mitosheet-from-dataframe-output');\">See Full Dataframe in Mito</div> <script> if (window.commands.hasCommand('create-mitosheet-from-dataframe-output')) document.getElementById('c662766c-4c4b-4f41-90d6-7fe8ed8fb786').style.display = 'flex' </script> <table border=\"1\" class=\"dataframe\">\n",
       "  <thead>\n",
       "    <tr style=\"text-align: right;\">\n",
       "      <th></th>\n",
       "      <th>Patient Id</th>\n",
       "      <th>Gender</th>\n",
       "      <th>Lab Id</th>\n",
       "      <th>Testing Cost_x</th>\n",
       "      <th>Age</th>\n",
       "      <th>Category</th>\n",
       "      <th>Testing Cost_y</th>\n",
       "      <th>Faturamento</th>\n",
       "      <th>faixa etaria</th>\n",
       "    </tr>\n",
       "  </thead>\n",
       "  <tbody>\n",
       "    <tr>\n",
       "      <th>0</th>\n",
       "      <td>10210830256-BIO003</td>\n",
       "      <td>F</td>\n",
       "      <td>L133</td>\n",
       "      <td>9.0</td>\n",
       "      <td>45</td>\n",
       "      <td>CA</td>\n",
       "      <td>1.78</td>\n",
       "      <td>7.22</td>\n",
       "      <td>crianca</td>\n",
       "    </tr>\n",
       "    <tr>\n",
       "      <th>1</th>\n",
       "      <td>10225666807-BIO002</td>\n",
       "      <td>F</td>\n",
       "      <td>L139</td>\n",
       "      <td>9.0</td>\n",
       "      <td>53</td>\n",
       "      <td>CA</td>\n",
       "      <td>1.78</td>\n",
       "      <td>7.22</td>\n",
       "      <td>crianca</td>\n",
       "    </tr>\n",
       "    <tr>\n",
       "      <th>2</th>\n",
       "      <td>571700011536-BIO002</td>\n",
       "      <td>F</td>\n",
       "      <td>L131</td>\n",
       "      <td>9.0</td>\n",
       "      <td>60</td>\n",
       "      <td>CA</td>\n",
       "      <td>1.78</td>\n",
       "      <td>7.22</td>\n",
       "      <td>crianca</td>\n",
       "    </tr>\n",
       "    <tr>\n",
       "      <th>3</th>\n",
       "      <td>574400001820-BIO002</td>\n",
       "      <td>F</td>\n",
       "      <td>L150</td>\n",
       "      <td>9.0</td>\n",
       "      <td>56</td>\n",
       "      <td>CA</td>\n",
       "      <td>1.78</td>\n",
       "      <td>7.22</td>\n",
       "      <td>crianca</td>\n",
       "    </tr>\n",
       "    <tr>\n",
       "      <th>4</th>\n",
       "      <td>10210855836-BIO003</td>\n",
       "      <td>F</td>\n",
       "      <td>L155</td>\n",
       "      <td>9.0</td>\n",
       "      <td>41</td>\n",
       "      <td>CA</td>\n",
       "      <td>1.78</td>\n",
       "      <td>7.22</td>\n",
       "      <td>crianca</td>\n",
       "    </tr>\n",
       "  </tbody>\n",
       "</table></div>"
      ],
      "text/plain": [
       "            Patient Id Gender Lab Id  Testing Cost_x  Age Category  \\\n",
       "0   10210830256-BIO003      F   L133             9.0   45       CA   \n",
       "1   10225666807-BIO002      F   L139             9.0   53       CA   \n",
       "2  571700011536-BIO002      F   L131             9.0   60       CA   \n",
       "3  574400001820-BIO002      F   L150             9.0   56       CA   \n",
       "4   10210855836-BIO003      F   L155             9.0   41       CA   \n",
       "\n",
       "   Testing Cost_y  Faturamento faixa etaria  \n",
       "0            1.78         7.22      crianca  \n",
       "1            1.78         7.22      crianca  \n",
       "2            1.78         7.22      crianca  \n",
       "3            1.78         7.22      crianca  \n",
       "4            1.78         7.22      crianca  "
      ]
     },
     "execution_count": 620,
     "metadata": {},
     "output_type": "execute_result"
    }
   ],
   "source": [
    "df.head()"
   ]
  },
  {
   "cell_type": "code",
   "execution_count": 621,
   "metadata": {},
   "outputs": [],
   "source": [
    "df[\"faixa etaria\"] = pd.cut( x = np.array(df[\"Age\"]), bins = [0,9,19,59,df[\"Age\"].max()], labels = [\"crianca\", \"jovem\", \"adulto\", \"idoso\"])"
   ]
  },
  {
   "cell_type": "code",
   "execution_count": 622,
   "metadata": {},
   "outputs": [
    {
     "data": {
      "text/html": [
       "<div><div id=e85941c8-0047-4ed2-a19f-a22b0571ff7a style=\"display:none; background-color:#9D6CFF; color:white; width:200px; height:30px; padding-left:5px; border-radius:4px; flex-direction:row; justify-content:space-around; align-items:center;\" onmouseover=\"this.style.backgroundColor='#BA9BF8'\" onmouseout=\"this.style.backgroundColor='#9D6CFF'\" onclick=\"window.commands?.execute('create-mitosheet-from-dataframe-output');\">See Full Dataframe in Mito</div> <script> if (window.commands.hasCommand('create-mitosheet-from-dataframe-output')) document.getElementById('e85941c8-0047-4ed2-a19f-a22b0571ff7a').style.display = 'flex' </script> <table border=\"1\" class=\"dataframe\">\n",
       "  <thead>\n",
       "    <tr style=\"text-align: right;\">\n",
       "      <th></th>\n",
       "      <th>Patient Id</th>\n",
       "      <th>Gender</th>\n",
       "      <th>Lab Id</th>\n",
       "      <th>Testing Cost_x</th>\n",
       "      <th>Age</th>\n",
       "      <th>Category</th>\n",
       "      <th>Testing Cost_y</th>\n",
       "      <th>Faturamento</th>\n",
       "      <th>faixa etaria</th>\n",
       "    </tr>\n",
       "  </thead>\n",
       "  <tbody>\n",
       "    <tr>\n",
       "      <th>0</th>\n",
       "      <td>10210830256-BIO003</td>\n",
       "      <td>F</td>\n",
       "      <td>L133</td>\n",
       "      <td>9.0</td>\n",
       "      <td>45</td>\n",
       "      <td>CA</td>\n",
       "      <td>1.78</td>\n",
       "      <td>7.22</td>\n",
       "      <td>adulto</td>\n",
       "    </tr>\n",
       "    <tr>\n",
       "      <th>1</th>\n",
       "      <td>10225666807-BIO002</td>\n",
       "      <td>F</td>\n",
       "      <td>L139</td>\n",
       "      <td>9.0</td>\n",
       "      <td>53</td>\n",
       "      <td>CA</td>\n",
       "      <td>1.78</td>\n",
       "      <td>7.22</td>\n",
       "      <td>adulto</td>\n",
       "    </tr>\n",
       "    <tr>\n",
       "      <th>2</th>\n",
       "      <td>571700011536-BIO002</td>\n",
       "      <td>F</td>\n",
       "      <td>L131</td>\n",
       "      <td>9.0</td>\n",
       "      <td>60</td>\n",
       "      <td>CA</td>\n",
       "      <td>1.78</td>\n",
       "      <td>7.22</td>\n",
       "      <td>idoso</td>\n",
       "    </tr>\n",
       "    <tr>\n",
       "      <th>3</th>\n",
       "      <td>574400001820-BIO002</td>\n",
       "      <td>F</td>\n",
       "      <td>L150</td>\n",
       "      <td>9.0</td>\n",
       "      <td>56</td>\n",
       "      <td>CA</td>\n",
       "      <td>1.78</td>\n",
       "      <td>7.22</td>\n",
       "      <td>adulto</td>\n",
       "    </tr>\n",
       "    <tr>\n",
       "      <th>4</th>\n",
       "      <td>10210855836-BIO003</td>\n",
       "      <td>F</td>\n",
       "      <td>L155</td>\n",
       "      <td>9.0</td>\n",
       "      <td>41</td>\n",
       "      <td>CA</td>\n",
       "      <td>1.78</td>\n",
       "      <td>7.22</td>\n",
       "      <td>adulto</td>\n",
       "    </tr>\n",
       "  </tbody>\n",
       "</table></div>"
      ],
      "text/plain": [
       "            Patient Id Gender Lab Id  Testing Cost_x  Age Category  \\\n",
       "0   10210830256-BIO003      F   L133             9.0   45       CA   \n",
       "1   10225666807-BIO002      F   L139             9.0   53       CA   \n",
       "2  571700011536-BIO002      F   L131             9.0   60       CA   \n",
       "3  574400001820-BIO002      F   L150             9.0   56       CA   \n",
       "4   10210855836-BIO003      F   L155             9.0   41       CA   \n",
       "\n",
       "   Testing Cost_y  Faturamento faixa etaria  \n",
       "0            1.78         7.22       adulto  \n",
       "1            1.78         7.22       adulto  \n",
       "2            1.78         7.22        idoso  \n",
       "3            1.78         7.22       adulto  \n",
       "4            1.78         7.22       adulto  "
      ]
     },
     "execution_count": 622,
     "metadata": {},
     "output_type": "execute_result"
    }
   ],
   "source": [
    "df.head()"
   ]
  },
  {
   "cell_type": "code",
   "execution_count": 623,
   "metadata": {},
   "outputs": [
    {
     "data": {
      "text/plain": [
       "adulto     1710058\n",
       "idoso       433384\n",
       "jovem       111924\n",
       "crianca      97931\n",
       "Name: faixa etaria, dtype: int64"
      ]
     },
     "execution_count": 623,
     "metadata": {},
     "output_type": "execute_result"
    }
   ],
   "source": [
    "df[\"faixa etaria\"].value_counts()"
   ]
  },
  {
   "cell_type": "code",
   "execution_count": 624,
   "metadata": {},
   "outputs": [
    {
     "data": {
      "text/html": [
       "<div><div id=6c3580a4-b912-44c6-bcba-eaacf70de7ea style=\"display:none; background-color:#9D6CFF; color:white; width:200px; height:30px; padding-left:5px; border-radius:4px; flex-direction:row; justify-content:space-around; align-items:center;\" onmouseover=\"this.style.backgroundColor='#BA9BF8'\" onmouseout=\"this.style.backgroundColor='#9D6CFF'\" onclick=\"window.commands?.execute('create-mitosheet-from-dataframe-output');\">See Full Dataframe in Mito</div> <script> if (window.commands.hasCommand('create-mitosheet-from-dataframe-output')) document.getElementById('6c3580a4-b912-44c6-bcba-eaacf70de7ea').style.display = 'flex' </script> <table border=\"1\" class=\"dataframe\">\n",
       "  <thead>\n",
       "    <tr style=\"text-align: right;\">\n",
       "      <th></th>\n",
       "      <th>Patient Id</th>\n",
       "      <th>Gender</th>\n",
       "      <th>Lab Id</th>\n",
       "      <th>Testing Cost_x</th>\n",
       "      <th>Age</th>\n",
       "      <th>Category</th>\n",
       "      <th>Testing Cost_y</th>\n",
       "      <th>Faturamento</th>\n",
       "      <th>faixa etaria</th>\n",
       "    </tr>\n",
       "  </thead>\n",
       "  <tbody>\n",
       "    <tr>\n",
       "      <th>377</th>\n",
       "      <td>10240407776-BIO010</td>\n",
       "      <td>F</td>\n",
       "      <td>L532</td>\n",
       "      <td>9.0</td>\n",
       "      <td>10</td>\n",
       "      <td>CA</td>\n",
       "      <td>1.78</td>\n",
       "      <td>7.22</td>\n",
       "      <td>jovem</td>\n",
       "    </tr>\n",
       "    <tr>\n",
       "      <th>386</th>\n",
       "      <td>427035262-BIO003</td>\n",
       "      <td>M</td>\n",
       "      <td>L134</td>\n",
       "      <td>9.0</td>\n",
       "      <td>10</td>\n",
       "      <td>CA</td>\n",
       "      <td>1.78</td>\n",
       "      <td>7.22</td>\n",
       "      <td>jovem</td>\n",
       "    </tr>\n",
       "    <tr>\n",
       "      <th>556</th>\n",
       "      <td>10210874756-BIO003</td>\n",
       "      <td>M</td>\n",
       "      <td>L121</td>\n",
       "      <td>9.0</td>\n",
       "      <td>10</td>\n",
       "      <td>CA</td>\n",
       "      <td>1.78</td>\n",
       "      <td>7.22</td>\n",
       "      <td>jovem</td>\n",
       "    </tr>\n",
       "    <tr>\n",
       "      <th>1022</th>\n",
       "      <td>10225758104-BIO002</td>\n",
       "      <td>F</td>\n",
       "      <td>L168</td>\n",
       "      <td>9.0</td>\n",
       "      <td>10</td>\n",
       "      <td>CA</td>\n",
       "      <td>1.78</td>\n",
       "      <td>7.22</td>\n",
       "      <td>jovem</td>\n",
       "    </tr>\n",
       "    <tr>\n",
       "      <th>1179</th>\n",
       "      <td>10240422785-BIO010</td>\n",
       "      <td>F</td>\n",
       "      <td>L523</td>\n",
       "      <td>9.0</td>\n",
       "      <td>10</td>\n",
       "      <td>CA</td>\n",
       "      <td>1.78</td>\n",
       "      <td>7.22</td>\n",
       "      <td>jovem</td>\n",
       "    </tr>\n",
       "    <tr>\n",
       "      <th>...</th>\n",
       "      <td>...</td>\n",
       "      <td>...</td>\n",
       "      <td>...</td>\n",
       "      <td>...</td>\n",
       "      <td>...</td>\n",
       "      <td>...</td>\n",
       "      <td>...</td>\n",
       "      <td>...</td>\n",
       "      <td>...</td>\n",
       "    </tr>\n",
       "    <tr>\n",
       "      <th>2352910</th>\n",
       "      <td>7664157625-1</td>\n",
       "      <td>M</td>\n",
       "      <td>L121</td>\n",
       "      <td>188.0</td>\n",
       "      <td>10</td>\n",
       "      <td>CA</td>\n",
       "      <td>6.15</td>\n",
       "      <td>181.85</td>\n",
       "      <td>jovem</td>\n",
       "    </tr>\n",
       "    <tr>\n",
       "      <th>2352959</th>\n",
       "      <td>7661761152-1</td>\n",
       "      <td>F</td>\n",
       "      <td>L155</td>\n",
       "      <td>70.0</td>\n",
       "      <td>10</td>\n",
       "      <td>RID</td>\n",
       "      <td>65.86</td>\n",
       "      <td>4.14</td>\n",
       "      <td>jovem</td>\n",
       "    </tr>\n",
       "    <tr>\n",
       "      <th>2352998</th>\n",
       "      <td>7659396351-1</td>\n",
       "      <td>M</td>\n",
       "      <td>L133</td>\n",
       "      <td>70.0</td>\n",
       "      <td>10</td>\n",
       "      <td>RID</td>\n",
       "      <td>65.86</td>\n",
       "      <td>4.14</td>\n",
       "      <td>jovem</td>\n",
       "    </tr>\n",
       "    <tr>\n",
       "      <th>2353222</th>\n",
       "      <td>7660556896-1</td>\n",
       "      <td>M</td>\n",
       "      <td>L121</td>\n",
       "      <td>83.0</td>\n",
       "      <td>10</td>\n",
       "      <td>CA</td>\n",
       "      <td>1.35</td>\n",
       "      <td>81.65</td>\n",
       "      <td>jovem</td>\n",
       "    </tr>\n",
       "    <tr>\n",
       "      <th>2353226</th>\n",
       "      <td>7660556896-1</td>\n",
       "      <td>M</td>\n",
       "      <td>L121</td>\n",
       "      <td>83.0</td>\n",
       "      <td>10</td>\n",
       "      <td>CA</td>\n",
       "      <td>6.51</td>\n",
       "      <td>76.49</td>\n",
       "      <td>jovem</td>\n",
       "    </tr>\n",
       "  </tbody>\n",
       "</table></div>"
      ],
      "text/plain": [
       "                 Patient Id Gender Lab Id  Testing Cost_x  Age Category  \\\n",
       "377      10240407776-BIO010      F   L532             9.0   10       CA   \n",
       "386        427035262-BIO003      M   L134             9.0   10       CA   \n",
       "556      10210874756-BIO003      M   L121             9.0   10       CA   \n",
       "1022     10225758104-BIO002      F   L168             9.0   10       CA   \n",
       "1179     10240422785-BIO010      F   L523             9.0   10       CA   \n",
       "...                     ...    ...    ...             ...  ...      ...   \n",
       "2352910        7664157625-1      M   L121           188.0   10       CA   \n",
       "2352959        7661761152-1      F   L155            70.0   10      RID   \n",
       "2352998        7659396351-1      M   L133            70.0   10      RID   \n",
       "2353222        7660556896-1      M   L121            83.0   10       CA   \n",
       "2353226        7660556896-1      M   L121            83.0   10       CA   \n",
       "\n",
       "         Testing Cost_y  Faturamento faixa etaria  \n",
       "377                1.78         7.22        jovem  \n",
       "386                1.78         7.22        jovem  \n",
       "556                1.78         7.22        jovem  \n",
       "1022               1.78         7.22        jovem  \n",
       "1179               1.78         7.22        jovem  \n",
       "...                 ...          ...          ...  \n",
       "2352910            6.15       181.85        jovem  \n",
       "2352959           65.86         4.14        jovem  \n",
       "2352998           65.86         4.14        jovem  \n",
       "2353222            1.35        81.65        jovem  \n",
       "2353226            6.51        76.49        jovem  \n",
       "\n",
       "[10873 rows x 9 columns]"
      ]
     },
     "execution_count": 624,
     "metadata": {},
     "output_type": "execute_result"
    }
   ],
   "source": [
    "df[df[\"Age\"] == 10]"
   ]
  },
  {
   "cell_type": "code",
   "execution_count": 662,
   "metadata": {},
   "outputs": [],
   "source": [
    "df3 = df[[\"Lab Id\", \"Gender\", \"Faturamento\", \"faixa etaria\"]]"
   ]
  },
  {
   "cell_type": "code",
   "execution_count": 674,
   "metadata": {},
   "outputs": [],
   "source": [
    "df4 = df[[\"Lab Id\", \"Gender\", \"Faturamento\", \"faixa etaria\", \"Testing Cost_y\"]]"
   ]
  },
  {
   "cell_type": "code",
   "execution_count": 675,
   "metadata": {},
   "outputs": [
    {
     "data": {
      "text/plain": [
       "Lab Id            0\n",
       "Gender            0\n",
       "Faturamento       0\n",
       "faixa etaria      0\n",
       "Testing Cost_y    0\n",
       "dtype: int64"
      ]
     },
     "execution_count": 675,
     "metadata": {},
     "output_type": "execute_result"
    }
   ],
   "source": [
    "df4.isnull().sum()"
   ]
  },
  {
   "cell_type": "code",
   "execution_count": 676,
   "metadata": {},
   "outputs": [],
   "source": [
    "faturamento_lab_comparacao_preco_faturamento = df4.groupby(by = [\"Lab Id\"]  ).sum()"
   ]
  },
  {
   "cell_type": "code",
   "execution_count": 677,
   "metadata": {},
   "outputs": [
    {
     "data": {
      "text/plain": [
       "<AxesSubplot:xlabel='Faturamento', ylabel='Testing Cost_y'>"
      ]
     },
     "execution_count": 677,
     "metadata": {},
     "output_type": "execute_result"
    },
    {
     "data": {
      "image/png": "[encoded data removed]",
      "text/plain": [
       "<Figure size 432x288 with 1 Axes>"
      ]
     },
     "metadata": {
      "needs_background": "light"
     },
     "output_type": "display_data"
    }
   ],
   "source": [
    "faturamento_lab_comparacao_preco_faturamento.plot.scatter( x = \"Faturamento\", y=\"Testing Cost_y\")"
   ]
  },
  {
   "cell_type": "code",
   "execution_count": 678,
   "metadata": {},
   "outputs": [
    {
     "data": {
      "text/html": [
       "<div><div id=0d3cb716-7be0-40ee-811b-e0e9d013b678 style=\"display:none; background-color:#9D6CFF; color:white; width:200px; height:30px; padding-left:5px; border-radius:4px; flex-direction:row; justify-content:space-around; align-items:center;\" onmouseover=\"this.style.backgroundColor='#BA9BF8'\" onmouseout=\"this.style.backgroundColor='#9D6CFF'\" onclick=\"window.commands?.execute('create-mitosheet-from-dataframe-output');\">See Full Dataframe in Mito</div> <script> if (window.commands.hasCommand('create-mitosheet-from-dataframe-output')) document.getElementById('0d3cb716-7be0-40ee-811b-e0e9d013b678').style.display = 'flex' </script> <table border=\"1\" class=\"dataframe\">\n",
       "  <thead>\n",
       "    <tr style=\"text-align: right;\">\n",
       "      <th></th>\n",
       "      <th>Faturamento</th>\n",
       "      <th>Testing Cost_y</th>\n",
       "    </tr>\n",
       "  </thead>\n",
       "  <tbody>\n",
       "    <tr>\n",
       "      <th>Faturamento</th>\n",
       "      <td>1.000000</td>\n",
       "      <td>0.965144</td>\n",
       "    </tr>\n",
       "    <tr>\n",
       "      <th>Testing Cost_y</th>\n",
       "      <td>0.965144</td>\n",
       "      <td>1.000000</td>\n",
       "    </tr>\n",
       "  </tbody>\n",
       "</table></div>"
      ],
      "text/plain": [
       "                Faturamento  Testing Cost_y\n",
       "Faturamento        1.000000        0.965144\n",
       "Testing Cost_y     0.965144        1.000000"
      ]
     },
     "execution_count": 678,
     "metadata": {},
     "output_type": "execute_result"
    }
   ],
   "source": [
    "faturamento_lab_comparacao_preco_faturamento.corr( method = \"pearson\")"
   ]
  },
  {
   "cell_type": "code",
   "execution_count": 663,
   "metadata": {},
   "outputs": [
    {
     "data": {
      "text/html": [
       "<div><div id=c4748b70-d8cd-4f23-a875-8f70c8be3015 style=\"display:none; background-color:#9D6CFF; color:white; width:200px; height:30px; padding-left:5px; border-radius:4px; flex-direction:row; justify-content:space-around; align-items:center;\" onmouseover=\"this.style.backgroundColor='#BA9BF8'\" onmouseout=\"this.style.backgroundColor='#9D6CFF'\" onclick=\"window.commands?.execute('create-mitosheet-from-dataframe-output');\">See Full Dataframe in Mito</div> <script> if (window.commands.hasCommand('create-mitosheet-from-dataframe-output')) document.getElementById('c4748b70-d8cd-4f23-a875-8f70c8be3015').style.display = 'flex' </script> <table border=\"1\" class=\"dataframe\">\n",
       "  <thead>\n",
       "    <tr style=\"text-align: right;\">\n",
       "      <th></th>\n",
       "      <th>Lab Id</th>\n",
       "      <th>Gender</th>\n",
       "      <th>Faturamento</th>\n",
       "      <th>faixa etaria</th>\n",
       "    </tr>\n",
       "  </thead>\n",
       "  <tbody>\n",
       "    <tr>\n",
       "      <th>0</th>\n",
       "      <td>L133</td>\n",
       "      <td>F</td>\n",
       "      <td>7.22</td>\n",
       "      <td>adulto</td>\n",
       "    </tr>\n",
       "    <tr>\n",
       "      <th>1</th>\n",
       "      <td>L139</td>\n",
       "      <td>F</td>\n",
       "      <td>7.22</td>\n",
       "      <td>adulto</td>\n",
       "    </tr>\n",
       "    <tr>\n",
       "      <th>2</th>\n",
       "      <td>L131</td>\n",
       "      <td>F</td>\n",
       "      <td>7.22</td>\n",
       "      <td>idoso</td>\n",
       "    </tr>\n",
       "    <tr>\n",
       "      <th>3</th>\n",
       "      <td>L150</td>\n",
       "      <td>F</td>\n",
       "      <td>7.22</td>\n",
       "      <td>adulto</td>\n",
       "    </tr>\n",
       "    <tr>\n",
       "      <th>4</th>\n",
       "      <td>L155</td>\n",
       "      <td>F</td>\n",
       "      <td>7.22</td>\n",
       "      <td>adulto</td>\n",
       "    </tr>\n",
       "  </tbody>\n",
       "</table></div>"
      ],
      "text/plain": [
       "  Lab Id Gender  Faturamento faixa etaria\n",
       "0   L133      F         7.22       adulto\n",
       "1   L139      F         7.22       adulto\n",
       "2   L131      F         7.22        idoso\n",
       "3   L150      F         7.22       adulto\n",
       "4   L155      F         7.22       adulto"
      ]
     },
     "execution_count": 663,
     "metadata": {},
     "output_type": "execute_result"
    }
   ],
   "source": [
    "df3.head()"
   ]
  },
  {
   "cell_type": "code",
   "execution_count": 664,
   "metadata": {},
   "outputs": [
    {
     "data": {
      "text/plain": [
       "Lab Id          0\n",
       "Gender          0\n",
       "Faturamento     0\n",
       "faixa etaria    0\n",
       "dtype: int64"
      ]
     },
     "execution_count": 664,
     "metadata": {},
     "output_type": "execute_result"
    }
   ],
   "source": [
    "df3.isnull().sum()"
   ]
  },
  {
   "cell_type": "code",
   "execution_count": 665,
   "metadata": {},
   "outputs": [],
   "source": [
    "faturamento_lab = df3.groupby(by = [\"Lab Id\"]  ).sum()"
   ]
  },
  {
   "cell_type": "code",
   "execution_count": 666,
   "metadata": {},
   "outputs": [],
   "source": [
    "faturamento_lab = faturamento_lab.sort_values(by = [\"Faturamento\"] , ascending = False)"
   ]
  },
  {
   "cell_type": "code",
   "execution_count": 679,
   "metadata": {},
   "outputs": [
    {
     "data": {
      "text/plain": [
       "<AxesSubplot:xlabel='Lab Id'>"
      ]
     },
     "execution_count": 679,
     "metadata": {},
     "output_type": "execute_result"
    },
    {
     "data": {
      "image/png": "[encoded data removed]",
      "text/plain": [
       "<Figure size 432x288 with 1 Axes>"
      ]
     },
     "metadata": {
      "needs_background": "light"
     },
     "output_type": "display_data"
    }
   ],
   "source": [
    "#PLOT COM OS DEZ LABORATORIOS MAIS LUCRATIVOS\n",
    "faturamento_lab.head(20).plot.bar()"
   ]
  },
  {
   "cell_type": "code",
   "execution_count": 682,
   "metadata": {},
   "outputs": [
    {
     "data": {
      "text/plain": [
       "Index(['L133', 'L139', 'L121', 'L123', 'L152', 'L166', 'L155', 'L156', 'L662',\n",
       "       'L061', 'L157', 'L150', 'L664', 'L141', 'L126', 'L158', 'L131', 'L132',\n",
       "       'L120', 'L148'],\n",
       "      dtype='object', name='Lab Id')"
      ]
     },
     "execution_count": 682,
     "metadata": {},
     "output_type": "execute_result"
    }
   ],
   "source": [
    "#20 laboratios mais lucrativos\n",
    "faturamento_lab.head(20).index"
   ]
  },
  {
   "cell_type": "code",
   "execution_count": 668,
   "metadata": {},
   "outputs": [],
   "source": [
    "faturamento_faix_et = df3.groupby(by = [\"faixa etaria\"]  ).sum().sort_values(by = [\"Faturamento\"], ascending = False)"
   ]
  },
  {
   "cell_type": "code",
   "execution_count": 669,
   "metadata": {},
   "outputs": [
    {
     "data": {
      "text/html": [
       "<div><div id=4139e5d1-9c75-473a-bc47-b7802583ffc1 style=\"display:none; background-color:#9D6CFF; color:white; width:200px; height:30px; padding-left:5px; border-radius:4px; flex-direction:row; justify-content:space-around; align-items:center;\" onmouseover=\"this.style.backgroundColor='#BA9BF8'\" onmouseout=\"this.style.backgroundColor='#9D6CFF'\" onclick=\"window.commands?.execute('create-mitosheet-from-dataframe-output');\">See Full Dataframe in Mito</div> <script> if (window.commands.hasCommand('create-mitosheet-from-dataframe-output')) document.getElementById('4139e5d1-9c75-473a-bc47-b7802583ffc1').style.display = 'flex' </script> <table border=\"1\" class=\"dataframe\">\n",
       "  <thead>\n",
       "    <tr style=\"text-align: right;\">\n",
       "      <th></th>\n",
       "      <th>Faturamento</th>\n",
       "    </tr>\n",
       "    <tr>\n",
       "      <th>faixa etaria</th>\n",
       "      <th></th>\n",
       "    </tr>\n",
       "  </thead>\n",
       "  <tbody>\n",
       "    <tr>\n",
       "      <th>adulto</th>\n",
       "      <td>58713898.48</td>\n",
       "    </tr>\n",
       "    <tr>\n",
       "      <th>idoso</th>\n",
       "      <td>13896176.98</td>\n",
       "    </tr>\n",
       "    <tr>\n",
       "      <th>crianca</th>\n",
       "      <td>7430503.15</td>\n",
       "    </tr>\n",
       "    <tr>\n",
       "      <th>jovem</th>\n",
       "      <td>4498615.41</td>\n",
       "    </tr>\n",
       "  </tbody>\n",
       "</table></div>"
      ],
      "text/plain": [
       "              Faturamento\n",
       "faixa etaria             \n",
       "adulto        58713898.48\n",
       "idoso         13896176.98\n",
       "crianca        7430503.15\n",
       "jovem          4498615.41"
      ]
     },
     "execution_count": 669,
     "metadata": {},
     "output_type": "execute_result"
    }
   ],
   "source": [
    "faturamento_faix_et"
   ]
  },
  {
   "cell_type": "code",
   "execution_count": 670,
   "metadata": {},
   "outputs": [
    {
     "data": {
      "text/plain": [
       "<AxesSubplot:xlabel='faixa etaria'>"
      ]
     },
     "execution_count": 670,
     "metadata": {},
     "output_type": "execute_result"
    },
    {
     "data": {
      "image/png": "[encoded data removed]",
      "text/plain": [
       "<Figure size 432x288 with 1 Axes>"
      ]
     },
     "metadata": {
      "needs_background": "light"
     },
     "output_type": "display_data"
    }
   ],
   "source": [
    "faturamento_faix_et.plot.bar()"
   ]
  },
  {
   "cell_type": "code",
   "execution_count": 671,
   "metadata": {},
   "outputs": [],
   "source": [
    "faturamento_gen = df3.groupby(by = [\"Gender\"]  ).sum().sort_values(by = [\"Faturamento\"], ascending = False)\n",
    "faturamento_gen =faturamento_gen.iloc[[0,1]]"
   ]
  },
  {
   "cell_type": "code",
   "execution_count": 672,
   "metadata": {},
   "outputs": [
    {
     "data": {
      "text/html": [
       "<div><div id=e60c0f30-c119-438a-b50b-48e330fa02aa style=\"display:none; background-color:#9D6CFF; color:white; width:200px; height:30px; padding-left:5px; border-radius:4px; flex-direction:row; justify-content:space-around; align-items:center;\" onmouseover=\"this.style.backgroundColor='#BA9BF8'\" onmouseout=\"this.style.backgroundColor='#9D6CFF'\" onclick=\"window.commands?.execute('create-mitosheet-from-dataframe-output');\">See Full Dataframe in Mito</div> <script> if (window.commands.hasCommand('create-mitosheet-from-dataframe-output')) document.getElementById('e60c0f30-c119-438a-b50b-48e330fa02aa').style.display = 'flex' </script> <table border=\"1\" class=\"dataframe\">\n",
       "  <thead>\n",
       "    <tr style=\"text-align: right;\">\n",
       "      <th></th>\n",
       "      <th>Faturamento</th>\n",
       "    </tr>\n",
       "    <tr>\n",
       "      <th>Gender</th>\n",
       "      <th></th>\n",
       "    </tr>\n",
       "  </thead>\n",
       "  <tbody>\n",
       "    <tr>\n",
       "      <th>F</th>\n",
       "      <td>54697163.99</td>\n",
       "    </tr>\n",
       "    <tr>\n",
       "      <th>M</th>\n",
       "      <td>29842030.03</td>\n",
       "    </tr>\n",
       "  </tbody>\n",
       "</table></div>"
      ],
      "text/plain": [
       "        Faturamento\n",
       "Gender             \n",
       "F       54697163.99\n",
       "M       29842030.03"
      ]
     },
     "execution_count": 672,
     "metadata": {},
     "output_type": "execute_result"
    }
   ],
   "source": [
    "faturamento_gen"
   ]
  },
  {
   "cell_type": "code",
   "execution_count": 673,
   "metadata": {},
   "outputs": [
    {
     "data": {
      "text/plain": [
       "<AxesSubplot:xlabel='Gender'>"
      ]
     },
     "execution_count": 673,
     "metadata": {},
     "output_type": "execute_result"
    },
    {
     "data": {
      "image/png": "[encoded data removed]",
      "text/plain": [
       "<Figure size 432x288 with 1 Axes>"
      ]
     },
     "metadata": {
      "needs_background": "light"
     },
     "output_type": "display_data"
    }
   ],
   "source": [
    "faturamento_gen.plot.bar()"
   ]
  },
  {
   "cell_type": "code",
   "execution_count": null,
   "metadata": {},
   "outputs": [],
   "source": []
  }
 ],
 "metadata": {
  "interpreter": {
   "hash": "b3ba2566441a7c06988d0923437866b63cedc61552a5af99d1f4fb67d367b25f"
  },
  "kernelspec": {
   "display_name": "Python 3.9.7 ('base')",
   "language": "python",
   "name": "python3"
  },
  "language_info": {
   "codemirror_mode": {
    "name": "ipython",
    "version": 3
   },
   "file_extension": ".py",
   "mimetype": "text/x-python",
   "name": "python",
   "nbconvert_exporter": "python",
   "pygments_lexer": "ipython3",
   "version": "3.9.7"
  },
  "orig_nbformat": 4
 },
 "nbformat": 4,
 "nbformat_minor": 2
}
